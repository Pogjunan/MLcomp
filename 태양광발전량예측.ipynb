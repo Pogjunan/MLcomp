{
 "cells": [
  {
   "cell_type": "markdown",
   "id": "8a760611-753a-42ee-a54e-570929699fa1",
   "metadata": {},
   "source": [
    "# 태양광 발전량 예측하기"
   ]
  },
  {
   "cell_type": "markdown",
   "id": "b6ba636e-bc04-4444-99d8-259a11231db8",
   "metadata": {},
   "source": [
    "데이터 분석 및 인공지능 기술을 활용하여 정확한 태양광 발전소의 발전량을 예측할 수 있는 능력을 갖춥니다.\r\n",
    "\r\n",
    "데이터 전처리, 시각화, 통계적 분석, 머신러닝 및 딥러닝 모델링 등 다양한  사용기법"
   ]
  },
  {
   "cell_type": "markdown",
   "id": "11134cae-1bce-46d5-aba2-1c8f39448152",
   "metadata": {},
   "source": [
    "## 활용분야\n",
    "`-` 발전량 예측으로 에너지 발전의 효율성과 운영 비용 절감 경험가능하고 태양광데이터로 농작물의 성장과 수확 기간을 예측하는 적절한 관리 방법을 택하는데 도움이 된다."
   ]
  },
  {
   "cell_type": "code",
   "execution_count": null,
   "id": "bac5ea76-6bb9-4303-a6e9-7efaa3910f5b",
   "metadata": {},
   "outputs": [],
   "source": [
    "import pandas as pd\n",
    "\n",
    "# train.csv, test.csv, sample_submission.csv 파일을 읽어옵니다.\n",
    "train = pd.read_csv('train.csv')\n",
    "test = pd.read_csv('test.csv')\n",
    "submission = pd.read_csv('sample_submission.csv')"
   ]
  },
  {
   "cell_type": "markdown",
   "id": "866d335a-7ba1-490d-92c8-734a4b499f89",
   "metadata": {},
   "source": [
    "## 특성 상관관계확인"
   ]
  },
  {
   "cell_type": "code",
   "execution_count": 1,
   "id": "010440ae-9896-445a-9ab6-587d2e656107",
   "metadata": {},
   "outputs": [
    {
     "ename": "NameError",
     "evalue": "name 'train' is not defined",
     "output_type": "error",
     "traceback": [
      "\u001b[0;31m---------------------------------------------------------------------------\u001b[0m",
      "\u001b[0;31mNameError\u001b[0m                                 Traceback (most recent call last)",
      "Cell \u001b[0;32mIn[1], line 8\u001b[0m\n\u001b[1;32m      5\u001b[0m plt\u001b[38;5;241m.\u001b[39mfigure(figsize \u001b[38;5;241m=\u001b[39m (\u001b[38;5;241m8\u001b[39m,\u001b[38;5;241m4\u001b[39m))\n\u001b[1;32m      7\u001b[0m \u001b[38;5;66;03m# annot을 False로 설정하면 각 셀의 수치가 표기되지 않습니다.\u001b[39;00m\n\u001b[0;32m----> 8\u001b[0m sns\u001b[38;5;241m.\u001b[39mheatmap(\u001b[43mtrain\u001b[49m\u001b[38;5;241m.\u001b[39mcorr(), annot \u001b[38;5;241m=\u001b[39m \u001b[38;5;28;01mTrue\u001b[39;00m)\n\u001b[1;32m      9\u001b[0m plt\u001b[38;5;241m.\u001b[39mshow()\n",
      "\u001b[0;31mNameError\u001b[0m: name 'train' is not defined"
     ]
    },
    {
     "data": {
      "text/plain": [
       "<Figure size 800x400 with 0 Axes>"
      ]
     },
     "metadata": {},
     "output_type": "display_data"
    }
   ],
   "source": [
    "import matplotlib.pyplot as plt\n",
    "import seaborn as sns\n",
    "\n",
    "# 이번 셀에서 출력할 이미지 크기를 지정합니다. \n",
    "plt.figure(figsize = (8,4))\n",
    "\n",
    "# annot을 False로 설정하면 각 셀의 수치가 표기되지 않습니다.\n",
    "sns.heatmap(train.corr(), annot = True)\n",
    "plt.show()"
   ]
  },
  {
   "cell_type": "markdown",
   "id": "5b06fbfe-e24c-4c1d-80fb-ab0e0c83dff2",
   "metadata": {},
   "source": [
    "### 새로운 특성 만들기 \n",
    "(수평면 산란 일사량 DHI + 법선면 직달 일사량 DNI 로 새로운 특성만들기)"
   ]
  },
  {
   "cell_type": "code",
   "execution_count": null,
   "id": "b96c9e21-05c4-4739-bda6-667716531e09",
   "metadata": {},
   "outputs": [],
   "source": [
    "train['sunlight'] = train['DHI'] + train['DNI']\n",
    "test['sunlight'] = test['DHI'] + test['DNI']"
   ]
  },
  {
   "cell_type": "code",
   "execution_count": null,
   "id": "cade38d4-b4cd-4008-8974-241de56c7394",
   "metadata": {},
   "outputs": [],
   "source": [
    "# 독립변수, 종속변수로 분리\n",
    "train_x = train.drop(['TARGET'], axis =1)\n",
    "train_y = train['TARGET']\n",
    "\n",
    "# ID 특성 제거\n",
    "train_x = train_x.drop('ID', axis = 1)\n",
    "test_x = test.drop('ID', axis = 1) "
   ]
  },
  {
   "cell_type": "markdown",
   "id": "96257ae4-c7cd-49ae-b164-dcf7547572a1",
   "metadata": {},
   "source": [
    "validation 만들기"
   ]
  },
  {
   "cell_type": "code",
   "execution_count": null,
   "id": "84b19d97-3b76-416d-b3f6-5c2b906e6c14",
   "metadata": {},
   "outputs": [],
   "source": [
    "from sklearn.model_selection import train_test_split\n",
    "\n",
    "x_train, x_valid, y_train, y_valid = train_test_split(train_x, train_y, test_size = 0.3, random_state = 42)"
   ]
  },
  {
   "cell_type": "markdown",
   "id": "2992eb8a-4f0d-4c9a-a3f0-b1b2bea754fb",
   "metadata": {},
   "source": [
    "## 의사 결정 나무(Decision Tree) 모델"
   ]
  },
  {
   "cell_type": "code",
   "execution_count": null,
   "id": "9bb60174-d760-45bc-b6da-2d0cd0910d05",
   "metadata": {},
   "outputs": [],
   "source": [
    "from sklearn.tree import DecisionTreeRegressor\n",
    "from sklearn.metrics import mean_squared_error\n",
    "\n",
    "decision = DecisionTreeRegressor(random_state = 42)\n",
    "decision.fit(x_train, y_train)\n",
    "\n",
    "decision_valid = decision.predict(x_valid)\n",
    "\n",
    "mean_squared_error(y_valid, decision_valid, squared = True)"
   ]
  },
  {
   "cell_type": "markdown",
   "id": "32302f07-b0b8-4a01-b7dd-b7b18e14f52f",
   "metadata": {},
   "source": [
    "3.1148627367859003"
   ]
  },
  {
   "cell_type": "markdown",
   "id": "e16ac7da-240b-4ac1-a7bc-9535ce20c43e",
   "metadata": {},
   "source": [
    "## 랜덤 포레스트(RandomForest) 모델"
   ]
  },
  {
   "cell_type": "code",
   "execution_count": null,
   "id": "53364248-c4d1-4ded-b0de-c9a19e29dbe6",
   "metadata": {},
   "outputs": [],
   "source": [
    "from sklearn.ensemble import RandomForestRegressor\n",
    "\n",
    "forest = RandomForestRegressor(random_state = 42)\n",
    "forest.fit(x_train, y_train)\n",
    "\n",
    "forest_valid = forest.predict(x_valid)\n",
    "\n",
    "mean_squared_error(y_valid, forest_valid, squared = True)"
   ]
  },
  {
   "cell_type": "markdown",
   "id": "6a726fdd-327c-4acc-96fa-121f97497b6c",
   "metadata": {},
   "source": [
    "1.314128829469825"
   ]
  },
  {
   "cell_type": "markdown",
   "id": "bd77e8c2-fd72-443a-a6d5-05f083742be5",
   "metadata": {},
   "source": [
    "## XGBoost 모델"
   ]
  },
  {
   "cell_type": "code",
   "execution_count": null,
   "id": "b31e7caf-36b8-4394-867c-1ad0efd3aedd",
   "metadata": {},
   "outputs": [],
   "source": [
    "from xgboost import XGBRegressor\n",
    "\n",
    "xgb = XGBRegressor(random_state = 42)\n",
    "xgb.fit(x_train, y_train)\n",
    "\n",
    "xgb_valid = xgb.predict(x_valid)\n",
    "\n",
    "mean_squared_error(y_valid, xgb_valid, squared = True)"
   ]
  },
  {
   "cell_type": "markdown",
   "id": "bc65f6d3-2d59-4f96-89a3-33551a742c17",
   "metadata": {},
   "source": [
    "1.3677757657448877"
   ]
  },
  {
   "cell_type": "markdown",
   "id": "0834be38-9ae3-4f78-a47d-d9993d050451",
   "metadata": {},
   "source": [
    "## hyperparameter"
   ]
  },
  {
   "cell_type": "code",
   "execution_count": null,
   "id": "4e660094-edb4-4299-9155-50200b6d5856",
   "metadata": {
    "jp-MarkdownHeadingCollapsed": true
   },
   "outputs": [],
   "source": [
    "# 하이퍼파라미터는 모델 정의부분에서 조정합니다. \n",
    "forest_hyper = RandomForestRegressor(n_estimators = 150, max_depth = 12, min_samples_split = 2, random_state = 42)\n",
    "\n",
    "forest_hyper.fit(x_train, y_train)\n",
    "\n",
    "forest_hyper_valid = forest_hyper.predict(x_valid)\n",
    "\n",
    "mean_squared_error(y_valid, forest_hyper_valid, squared = True)"
   ]
  },
  {
   "cell_type": "markdown",
   "id": "4aa09aeb-3613-4d6a-b1d5-10bf9b64b300",
   "metadata": {},
   "source": [
    "## 예측하고 제출하기."
   ]
  },
  {
   "cell_type": "code",
   "execution_count": null,
   "id": "c3a5cb6b-585b-4f53-8db0-ee89d676da1f",
   "metadata": {},
   "outputs": [],
   "source": [
    "my_prediction = xgb.predict(test_x)"
   ]
  },
  {
   "cell_type": "code",
   "execution_count": null,
   "id": "6344d3de-43a1-4845-ad25-dcb981064725",
   "metadata": {},
   "outputs": [],
   "source": [
    "submission['TARGET'] = my_prediction\n",
    "submission.to_csv('submission.csv', index = False)"
   ]
  },
  {
   "cell_type": "markdown",
   "id": "ee9fea3b-b270-420e-a740-a5ba637548c5",
   "metadata": {},
   "source": [
    "\t1.2051313397031287\n"
   ]
  },
  {
   "cell_type": "code",
   "execution_count": null,
   "id": "543b0787-3d47-4433-9511-64c034b0a9d5",
   "metadata": {},
   "outputs": [],
   "source": []
  },
  {
   "cell_type": "code",
   "execution_count": null,
   "id": "995647d9-9d18-483b-9ee0-723fbc8a54ea",
   "metadata": {},
   "outputs": [],
   "source": []
  }
 ],
 "metadata": {
  "kernelspec": {
   "display_name": "deep",
   "language": "python",
   "name": "deep"
  },
  "language_info": {
   "codemirror_mode": {
    "name": "ipython",
    "version": 3
   },
   "file_extension": ".py",
   "mimetype": "text/x-python",
   "name": "python",
   "nbconvert_exporter": "python",
   "pygments_lexer": "ipython3",
   "version": "3.10.13"
  }
 },
 "nbformat": 4,
 "nbformat_minor": 5
}
