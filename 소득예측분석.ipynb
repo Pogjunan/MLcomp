{
 "cells": [
  {
   "cell_type": "code",
   "execution_count": 1,
   "id": "7679c80e-131e-4e6b-8861-9c1d5f0c6cdd",
   "metadata": {},
   "outputs": [],
   "source": [
    "#소득예측 제대로 분석"
   ]
  },
  {
   "cell_type": "code",
   "execution_count": 22,
   "id": "9ddc7d3f-d137-49af-9080-d9285630be5c",
   "metadata": {},
   "outputs": [],
   "source": [
    "import numpy as np\n",
    "import random\n",
    "import os\n",
    "import matplotlib.pyplot as plt\n",
    "import seaborn as sns\n",
    "def seed_everything(seed):\n",
    "    random.seed(seed)\n",
    "    os.environ['PYTHONHASHSEED'] = str(seed)\n",
    "    np.random.seed(seed)\n",
    "\n",
    "seed_everything(42) # Seed 고정"
   ]
  },
  {
   "cell_type": "code",
   "execution_count": 23,
   "id": "665155fc-2c67-4b1a-8ef9-b5c23b0cf8eb",
   "metadata": {},
   "outputs": [
    {
     "data": {
      "text/html": [
       "<div>\n",
       "<style scoped>\n",
       "    .dataframe tbody tr th:only-of-type {\n",
       "        vertical-align: middle;\n",
       "    }\n",
       "\n",
       "    .dataframe tbody tr th {\n",
       "        vertical-align: top;\n",
       "    }\n",
       "\n",
       "    .dataframe thead th {\n",
       "        text-align: right;\n",
       "    }\n",
       "</style>\n",
       "<table border=\"1\" class=\"dataframe\">\n",
       "  <thead>\n",
       "    <tr style=\"text-align: right;\">\n",
       "      <th></th>\n",
       "      <th>ID</th>\n",
       "      <th>Age</th>\n",
       "      <th>Gender</th>\n",
       "      <th>Education_Status</th>\n",
       "      <th>Employment_Status</th>\n",
       "      <th>Working_Week (Yearly)</th>\n",
       "      <th>Industry_Status</th>\n",
       "      <th>Occupation_Status</th>\n",
       "      <th>Race</th>\n",
       "      <th>Hispanic_Origin</th>\n",
       "      <th>...</th>\n",
       "      <th>Citizenship</th>\n",
       "      <th>Birth_Country</th>\n",
       "      <th>Birth_Country (Father)</th>\n",
       "      <th>Birth_Country (Mother)</th>\n",
       "      <th>Tax_Status</th>\n",
       "      <th>Gains</th>\n",
       "      <th>Losses</th>\n",
       "      <th>Dividends</th>\n",
       "      <th>Income_Status</th>\n",
       "      <th>Income</th>\n",
       "    </tr>\n",
       "  </thead>\n",
       "  <tbody>\n",
       "    <tr>\n",
       "      <th>0</th>\n",
       "      <td>TRAIN_00000</td>\n",
       "      <td>63</td>\n",
       "      <td>M</td>\n",
       "      <td>Middle (7-8)</td>\n",
       "      <td>Full-Time</td>\n",
       "      <td>4</td>\n",
       "      <td>Social Services</td>\n",
       "      <td>Services</td>\n",
       "      <td>White</td>\n",
       "      <td>All other</td>\n",
       "      <td>...</td>\n",
       "      <td>Native</td>\n",
       "      <td>US</td>\n",
       "      <td>US</td>\n",
       "      <td>US</td>\n",
       "      <td>Nonfiler</td>\n",
       "      <td>0</td>\n",
       "      <td>0</td>\n",
       "      <td>0</td>\n",
       "      <td>Unknown</td>\n",
       "      <td>425</td>\n",
       "    </tr>\n",
       "    <tr>\n",
       "      <th>1</th>\n",
       "      <td>TRAIN_00001</td>\n",
       "      <td>37</td>\n",
       "      <td>M</td>\n",
       "      <td>Associates degree (Vocational)</td>\n",
       "      <td>Full-Time</td>\n",
       "      <td>52</td>\n",
       "      <td>Entertainment</td>\n",
       "      <td>Services</td>\n",
       "      <td>White</td>\n",
       "      <td>All other</td>\n",
       "      <td>...</td>\n",
       "      <td>Native</td>\n",
       "      <td>US</td>\n",
       "      <td>US</td>\n",
       "      <td>US</td>\n",
       "      <td>Single</td>\n",
       "      <td>0</td>\n",
       "      <td>0</td>\n",
       "      <td>0</td>\n",
       "      <td>Under Median</td>\n",
       "      <td>0</td>\n",
       "    </tr>\n",
       "    <tr>\n",
       "      <th>2</th>\n",
       "      <td>TRAIN_00002</td>\n",
       "      <td>58</td>\n",
       "      <td>F</td>\n",
       "      <td>High graduate</td>\n",
       "      <td>Full-Time</td>\n",
       "      <td>52</td>\n",
       "      <td>Manufacturing (Non-durable)</td>\n",
       "      <td>Admin Support (include Clerical)</td>\n",
       "      <td>Black</td>\n",
       "      <td>All other</td>\n",
       "      <td>...</td>\n",
       "      <td>Native</td>\n",
       "      <td>US</td>\n",
       "      <td>US</td>\n",
       "      <td>US</td>\n",
       "      <td>Married Filling Jointly both under 65 (MFJ)</td>\n",
       "      <td>3411</td>\n",
       "      <td>0</td>\n",
       "      <td>0</td>\n",
       "      <td>Under Median</td>\n",
       "      <td>860</td>\n",
       "    </tr>\n",
       "  </tbody>\n",
       "</table>\n",
       "<p>3 rows × 23 columns</p>\n",
       "</div>"
      ],
      "text/plain": [
       "            ID  Age Gender                Education_Status Employment_Status  \\\n",
       "0  TRAIN_00000   63      M                    Middle (7-8)         Full-Time   \n",
       "1  TRAIN_00001   37      M  Associates degree (Vocational)         Full-Time   \n",
       "2  TRAIN_00002   58      F                   High graduate         Full-Time   \n",
       "\n",
       "   Working_Week (Yearly)              Industry_Status  \\\n",
       "0                      4              Social Services   \n",
       "1                     52                Entertainment   \n",
       "2                     52  Manufacturing (Non-durable)   \n",
       "\n",
       "                  Occupation_Status   Race Hispanic_Origin  ... Citizenship  \\\n",
       "0                          Services  White       All other  ...      Native   \n",
       "1                          Services  White       All other  ...      Native   \n",
       "2  Admin Support (include Clerical)  Black       All other  ...      Native   \n",
       "\n",
       "  Birth_Country Birth_Country (Father) Birth_Country (Mother)  \\\n",
       "0            US                     US                     US   \n",
       "1            US                     US                     US   \n",
       "2            US                     US                     US   \n",
       "\n",
       "                                    Tax_Status Gains Losses Dividends  \\\n",
       "0                                     Nonfiler     0      0         0   \n",
       "1                                       Single     0      0         0   \n",
       "2  Married Filling Jointly both under 65 (MFJ)  3411      0         0   \n",
       "\n",
       "   Income_Status  Income  \n",
       "0        Unknown     425  \n",
       "1   Under Median       0  \n",
       "2   Under Median     860  \n",
       "\n",
       "[3 rows x 23 columns]"
      ]
     },
     "metadata": {},
     "output_type": "display_data"
    }
   ],
   "source": [
    "import pandas as pd\n",
    "\n",
    "train = pd.read_csv('./train.csv')\n",
    "test = pd.read_csv('./test.csv')\n",
    "\n",
    "display(train.head(3))\n",
    "# display(test.head(3))"
   ]
  },
  {
   "cell_type": "code",
   "execution_count": null,
   "id": "ad18948e-bf8e-4d99-9a62-75ee13b87cad",
   "metadata": {},
   "outputs": [],
   "source": []
  },
  {
   "cell_type": "code",
   "execution_count": 3,
   "id": "bec01ac5-8975-4e2d-ba2a-81a8d0760cc2",
   "metadata": {},
   "outputs": [],
   "source": [
    "import matplotlib.pyplot as plt"
   ]
  },
  {
   "cell_type": "code",
   "execution_count": 10,
   "id": "d5966149-dd27-44dd-b2ef-1ab172791dd8",
   "metadata": {},
   "outputs": [
    {
     "data": {
      "image/png": "[encoded data removed]",
      "text/plain": [
       "<Figure size 640x480 with 1 Axes>"
      ]
     },
     "metadata": {},
     "output_type": "display_data"
    }
   ],
   "source": [
    "import matplotlib.pyplot as plt\n",
    "\n",
    "# train 데이터프레임에서 Income 열을 사용하여 히스토그램을 그립니다.\n",
    "plt.hist(train.Income, bins=range(int(min(train.Income)), int(max(train.Income)) + 100, 100))\n",
    "plt.xlabel('Income')\n",
    "plt.ylabel('Frequency')\n",
    "plt.title('Income Distribution')\n",
    "plt.show()\n"
   ]
  },
  {
   "cell_type": "code",
   "execution_count": 13,
   "id": "1955f6ed-5a49-4cc4-b050-ef64a7a72e28",
   "metadata": {},
   "outputs": [
    {
     "data": {
      "text/plain": [
       "8697"
      ]
     },
     "execution_count": 13,
     "metadata": {},
     "output_type": "execute_result"
    }
   ],
   "source": [
    "len(train.Income[train.Income==0])"
   ]
  },
  {
   "cell_type": "code",
   "execution_count": 14,
   "id": "6ea87b83-f897-4870-a15f-4b2fecb72251",
   "metadata": {},
   "outputs": [
    {
     "data": {
      "text/plain": [
       "20000"
      ]
     },
     "execution_count": 14,
     "metadata": {},
     "output_type": "execute_result"
    }
   ],
   "source": [
    "len(train.Income)"
   ]
  },
  {
   "cell_type": "code",
   "execution_count": null,
   "id": "8b0d5347-36a4-407e-b0d9-9ce4bca22da2",
   "metadata": {},
   "outputs": [],
   "source": []
  },
  {
   "cell_type": "code",
   "execution_count": 15,
   "id": "e617ad43-fbe8-4cfc-8556-2186f95346f2",
   "metadata": {},
   "outputs": [
    {
     "name": "stderr",
     "output_type": "stream",
     "text": [
      "No presets specified! To achieve strong results with AutoGluon, it is recommended to use the available presets.\n",
      "\tRecommended Presets (For more details refer to https://auto.gluon.ai/stable/tutorials/tabular/tabular-essentials.html#presets):\n",
      "\tpresets='best_quality'   : Maximize accuracy. Default time_limit=3600.\n",
      "\tpresets='high_quality'   : Strong accuracy with fast inference speed. Default time_limit=3600.\n",
      "\tpresets='good_quality'   : Good accuracy with very fast inference speed. Default time_limit=3600.\n",
      "\tpresets='medium_quality' : Fast training time, ideal for initial prototyping.\n",
      "Beginning AutoGluon training ...\n",
      "AutoGluon will save models to \"ag_models\"\n",
      "=================== System Info ===================\n",
      "AutoGluon Version:  1.0.0\n",
      "Python Version:     3.10.13\n",
      "Operating System:   Linux\n",
      "Platform Machine:   x86_64\n",
      "Platform Version:   #44-Ubuntu SMP Fri Jan 19 20:16:38 UTC 2024\n",
      "CPU Count:          128\n",
      "Memory Avail:       467.55 GB / 503.72 GB (92.8%)\n",
      "Disk Space Avail:   86.36 GB / 1757.88 GB (4.9%)\n",
      "===================================================\n",
      "Train Data Rows:    11303\n",
      "Train Data Columns: 22\n",
      "Label Column:       Income\n",
      "AutoGluon infers your prediction problem is: 'regression' (because dtype of label-column == int and many unique label-values observed).\n",
      "\tLabel info (max, min, mean, stddev): (9999, 20, 981.2709, 672.42906)\n",
      "\tIf 'regression' is not the correct problem_type, please manually specify the problem_type parameter during predictor init (You may specify problem_type as one of: ['binary', 'multiclass', 'regression'])\n",
      "Problem Type:       regression\n",
      "Preprocessing data ...\n",
      "Using Feature Generators to preprocess the data ...\n",
      "Fitting AutoMLPipelineFeatureGenerator...\n",
      "\tAvailable Memory:                    478793.26 MB\n",
      "\tTrain Data (Original)  Memory Usage: 12.95 MB (0.0% of available memory)\n",
      "\tInferring data type of each feature based on column values. Set feature_metadata_in to manually specify special dtypes of the features.\n",
      "\tStage 1 Generators:\n",
      "\t\tFitting AsTypeFeatureGenerator...\n",
      "\t\t\tNote: Converting 1 features to boolean dtype as they only contain 2 unique values.\n",
      "\tStage 2 Generators:\n",
      "\t\tFitting FillNaFeatureGenerator...\n",
      "\tStage 3 Generators:\n",
      "\t\tFitting IdentityFeatureGenerator...\n",
      "\t\tFitting CategoryFeatureGenerator...\n",
      "\t\t\tFitting CategoryMemoryMinimizeFeatureGenerator...\n",
      "\tStage 4 Generators:\n",
      "\t\tFitting DropUniqueFeatureGenerator...\n",
      "\tStage 5 Generators:\n",
      "\t\tFitting DropDuplicatesFeatureGenerator...\n",
      "\tUnused Original Features (Count: 1): ['ID']\n",
      "\t\tThese features were not used to generate any of the output features. Add a feature generator compatible with these features to utilize them.\n",
      "\t\tFeatures can also be unused if they carry very little information, such as being categorical but having almost entirely unique values or being duplicates of other features.\n",
      "\t\tThese features do not need to be present at inference time.\n",
      "\t\t('object', []) : 1 | ['ID']\n",
      "\tTypes of features in original data (raw dtype, special dtypes):\n",
      "\t\t('int', [])    :  5 | ['Age', 'Working_Week (Yearly)', 'Gains', 'Losses', 'Dividends']\n",
      "\t\t('object', []) : 16 | ['Gender', 'Education_Status', 'Employment_Status', 'Industry_Status', 'Occupation_Status', ...]\n",
      "\tTypes of features in processed data (raw dtype, special dtypes):\n",
      "\t\t('category', [])  : 15 | ['Education_Status', 'Employment_Status', 'Industry_Status', 'Occupation_Status', 'Race', ...]\n",
      "\t\t('int', [])       :  5 | ['Age', 'Working_Week (Yearly)', 'Gains', 'Losses', 'Dividends']\n",
      "\t\t('int', ['bool']) :  1 | ['Gender']\n",
      "\t0.2s = Fit runtime\n",
      "\t21 features in original data used to generate 21 features in processed data.\n",
      "\tTrain Data (Processed) Memory Usage: 0.61 MB (0.0% of available memory)\n",
      "Data preprocessing and feature engineering runtime = 0.25s ...\n",
      "AutoGluon will gauge predictive performance using evaluation metric: 'root_mean_squared_error'\n",
      "\tThis metric's sign has been flipped to adhere to being higher_is_better. The metric score can be multiplied by -1 to get the metric value.\n",
      "\tTo change this, specify the eval_metric parameter of Predictor()\n",
      "Automatically generating train/validation split with holdout_frac=0.1, Train Rows: 10172, Val Rows: 1131\n",
      "User-specified model hyperparameters to be fit:\n",
      "{\n",
      "\t'NN_TORCH': {},\n",
      "\t'GBM': [{'extra_trees': True, 'ag_args': {'name_suffix': 'XT'}}, {}, 'GBMLarge'],\n",
      "\t'CAT': {},\n",
      "\t'XGB': {},\n",
      "\t'FASTAI': {},\n",
      "\t'RF': [{'criterion': 'gini', 'ag_args': {'name_suffix': 'Gini', 'problem_types': ['binary', 'multiclass']}}, {'criterion': 'entropy', 'ag_args': {'name_suffix': 'Entr', 'problem_types': ['binary', 'multiclass']}}, {'criterion': 'squared_error', 'ag_args': {'name_suffix': 'MSE', 'problem_types': ['regression', 'quantile']}}],\n",
      "\t'XT': [{'criterion': 'gini', 'ag_args': {'name_suffix': 'Gini', 'problem_types': ['binary', 'multiclass']}}, {'criterion': 'entropy', 'ag_args': {'name_suffix': 'Entr', 'problem_types': ['binary', 'multiclass']}}, {'criterion': 'squared_error', 'ag_args': {'name_suffix': 'MSE', 'problem_types': ['regression', 'quantile']}}],\n",
      "\t'KNN': [{'weights': 'uniform', 'ag_args': {'name_suffix': 'Unif'}}, {'weights': 'distance', 'ag_args': {'name_suffix': 'Dist'}}],\n",
      "}\n",
      "Fitting 11 L1 models ...\n",
      "Fitting model: KNeighborsUnif ...\n",
      "\t-726.5973\t = Validation score   (-root_mean_squared_error)\n",
      "\t0.02s\t = Training   runtime\n",
      "\t0.09s\t = Validation runtime\n",
      "Fitting model: KNeighborsDist ...\n",
      "\t-722.181\t = Validation score   (-root_mean_squared_error)\n",
      "\t0.01s\t = Training   runtime\n",
      "\t0.09s\t = Validation runtime\n",
      "Fitting model: LightGBMXT ...\n",
      "\t-544.413\t = Validation score   (-root_mean_squared_error)\n",
      "\t7.19s\t = Training   runtime\n",
      "\t0.17s\t = Validation runtime\n",
      "Fitting model: LightGBM ...\n",
      "\t-539.1434\t = Validation score   (-root_mean_squared_error)\n",
      "\t4.27s\t = Training   runtime\n",
      "\t0.11s\t = Validation runtime\n",
      "Fitting model: RandomForestMSE ...\n",
      "\t-578.1104\t = Validation score   (-root_mean_squared_error)\n",
      "\t0.98s\t = Training   runtime\n",
      "\t0.09s\t = Validation runtime\n",
      "Fitting model: CatBoost ...\n",
      "\t-545.9595\t = Validation score   (-root_mean_squared_error)\n",
      "\t28.29s\t = Training   runtime\n",
      "\t0.02s\t = Validation runtime\n",
      "Fitting model: ExtraTreesMSE ...\n",
      "\t-569.1532\t = Validation score   (-root_mean_squared_error)\n",
      "\t0.78s\t = Training   runtime\n",
      "\t0.09s\t = Validation runtime\n",
      "Fitting model: NeuralNetFastAI ...\n",
      "\t-521.8657\t = Validation score   (-root_mean_squared_error)\n",
      "\t28.86s\t = Training   runtime\n",
      "\t0.03s\t = Validation runtime\n",
      "Fitting model: XGBoost ...\n",
      "\t-538.6931\t = Validation score   (-root_mean_squared_error)\n",
      "\t2.02s\t = Training   runtime\n",
      "\t0.01s\t = Validation runtime\n",
      "Fitting model: NeuralNetTorch ...\n",
      "\t-558.0812\t = Validation score   (-root_mean_squared_error)\n",
      "\t44.03s\t = Training   runtime\n",
      "\t0.07s\t = Validation runtime\n",
      "Fitting model: LightGBMLarge ...\n",
      "\t-548.9536\t = Validation score   (-root_mean_squared_error)\n",
      "\t18.59s\t = Training   runtime\n",
      "\t0.1s\t = Validation runtime\n",
      "Fitting model: WeightedEnsemble_L2 ...\n",
      "\tEnsemble Weights: {'NeuralNetFastAI': 0.618, 'LightGBM': 0.2, 'XGBoost': 0.182}\n",
      "\t-514.2123\t = Validation score   (-root_mean_squared_error)\n",
      "\t0.3s\t = Training   runtime\n",
      "\t0.0s\t = Validation runtime\n",
      "AutoGluon training complete, total runtime = 137.67s ... Best model: \"WeightedEnsemble_L2\"\n",
      "TabularPredictor saved. To load, use: predictor = TabularPredictor.load(\"ag_models\")\n"
     ]
    }
   ],
   "source": [
    "import pandas as pd\n",
    "from autogluon.tabular import TabularPredictor\n",
    "\n",
    "# train 데이터에서 Income이 0인 행 제거\n",
    "train = train[train['Income'] != 0]\n",
    "\n",
    "# Autogluon을 사용하여 모델 학습 및 예측\n",
    "label = 'Income'  # 예측할 타겟 변수\n",
    "predictor = TabularPredictor(label=label, path='ag_models').fit(train_data=train)\n",
    "predictions = predictor.predict(test)\n"
   ]
  },
  {
   "cell_type": "code",
   "execution_count": 16,
   "id": "7286433a-8b68-411f-97ca-d8fdda3204e7",
   "metadata": {},
   "outputs": [
    {
     "data": {
      "text/plain": [
       "0        797.440491\n",
       "1        702.252136\n",
       "2        461.121338\n",
       "3        720.697876\n",
       "4        343.188324\n",
       "           ...     \n",
       "9995    1425.820435\n",
       "9996     810.996216\n",
       "9997     516.902161\n",
       "9998     419.314392\n",
       "9999    1031.972412\n",
       "Name: Income, Length: 10000, dtype: float32"
      ]
     },
     "execution_count": 16,
     "metadata": {},
     "output_type": "execute_result"
    }
   ],
   "source": [
    "predictions"
   ]
  },
  {
   "cell_type": "code",
   "execution_count": 21,
   "id": "38bdbfc5-df07-4966-b91d-21bf0edd2f89",
   "metadata": {},
   "outputs": [],
   "source": [
    "submit = pd.read_csv('sample_submission.csv')\n",
    "submit.Income = predictions\n",
    "submit.to_csv(\"submission.csv\",index=False)"
   ]
  },
  {
   "cell_type": "code",
   "execution_count": null,
   "id": "4ac155d3-d5af-4695-abbe-32972d55069c",
   "metadata": {},
   "outputs": [],
   "source": []
  }
 ],
 "metadata": {
  "kernelspec": {
   "display_name": "deep",
   "language": "python",
   "name": "deep"
  },
  "language_info": {
   "codemirror_mode": {
    "name": "ipython",
    "version": 3
   },
   "file_extension": ".py",
   "mimetype": "text/x-python",
   "name": "python",
   "nbconvert_exporter": "python",
   "pygments_lexer": "ipython3",
   "version": "3.10.13"
  }
 },
 "nbformat": 4,
 "nbformat_minor": 5
}
