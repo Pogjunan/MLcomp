{
 "cells": [
  {
   "cell_type": "markdown",
   "metadata": {
    "id": "mkDOAaHnf98u"
   },
   "source": [
    "AutoGluon(AutoML) 사용해보기\n",
    "AutoGluon Tabular - Quick Start : https://auto.gluon.ai/stable/tutorials/tabular/tabular-quick-start.html\n",
    "\n",
    "AutoGluon Tabular - Essential Functionality : https://auto.gluon.ai/stable/tutorials/tabular/tabular-essentials.html\n",
    "\n",
    "추가적으로 AutoGluon을 알고싶다면 AutoGluon Tabular - In Depth : https://auto.gluon.ai/stable/tutorials/tabular/tabular-indepth.html\n",
    "\n",
    "Quick Start"
   ]
  },
  {
   "cell_type": "code",
   "execution_count": 1,
   "metadata": {
    "id": "ATnfEPT-gJRc",
    "tags": []
   },
   "outputs": [],
   "source": [
    "#pip install autogluon"
   ]
  },
  {
   "cell_type": "code",
   "execution_count": 1,
   "metadata": {
    "collapsed": true,
    "id": "r2nW_-2sf-kz",
    "jupyter": {
     "outputs_hidden": true
    },
    "tags": []
   },
   "outputs": [
    {
     "name": "stderr",
     "output_type": "stream",
     "text": [
      "No path specified. Models will be saved in: \"AutogluonModels/ag-20240407_111739\"\n",
      "No presets specified! To achieve strong results with AutoGluon, it is recommended to use the available presets.\n",
      "\tRecommended Presets (For more details refer to https://auto.gluon.ai/stable/tutorials/tabular/tabular-essentials.html#presets):\n",
      "\tpresets='best_quality'   : Maximize accuracy. Default time_limit=3600.\n",
      "\tpresets='high_quality'   : Strong accuracy with fast inference speed. Default time_limit=3600.\n",
      "\tpresets='good_quality'   : Good accuracy with very fast inference speed. Default time_limit=3600.\n",
      "\tpresets='medium_quality' : Fast training time, ideal for initial prototyping.\n",
      "Beginning AutoGluon training ...\n",
      "AutoGluon will save models to \"AutogluonModels/ag-20240407_111739\"\n",
      "=================== System Info ===================\n",
      "AutoGluon Version:  1.0.0\n",
      "Python Version:     3.10.13\n",
      "Operating System:   Linux\n",
      "Platform Machine:   x86_64\n",
      "Platform Version:   #44-Ubuntu SMP Fri Jan 19 20:16:38 UTC 2024\n",
      "CPU Count:          128\n",
      "Memory Avail:       465.92 GB / 503.72 GB (92.5%)\n",
      "Disk Space Avail:   11.04 GB / 1757.88 GB (0.6%)\n",
      "===================================================\n",
      "Train Data Rows:    16000\n",
      "Train Data Columns: 21\n",
      "Tuning Data Rows:    4000\n",
      "Tuning Data Columns: 21\n",
      "Label Column:       Income\n",
      "AutoGluon infers your prediction problem is: 'regression' (because dtype of label-column == int and many unique label-values observed).\n",
      "\tLabel info (max, min, mean, stddev): (9999, 0, 556.14256, 706.86957)\n",
      "\tIf 'regression' is not the correct problem_type, please manually specify the problem_type parameter during predictor init (You may specify problem_type as one of: ['binary', 'multiclass', 'regression'])\n",
      "Problem Type:       regression\n",
      "Preprocessing data ...\n",
      "Using Feature Generators to preprocess the data ...\n",
      "Fitting AutoMLPipelineFeatureGenerator...\n",
      "\tAvailable Memory:                    477123.48 MB\n",
      "\tTrain Data (Original)  Memory Usage: 21.63 MB (0.0% of available memory)\n",
      "\tInferring data type of each feature based on column values. Set feature_metadata_in to manually specify special dtypes of the features.\n",
      "\tStage 1 Generators:\n",
      "\t\tFitting AsTypeFeatureGenerator...\n",
      "\t\t\tNote: Converting 1 features to boolean dtype as they only contain 2 unique values.\n",
      "\tStage 2 Generators:\n",
      "\t\tFitting FillNaFeatureGenerator...\n",
      "\tStage 3 Generators:\n",
      "\t\tFitting IdentityFeatureGenerator...\n",
      "\t\tFitting CategoryFeatureGenerator...\n",
      "\t\t\tFitting CategoryMemoryMinimizeFeatureGenerator...\n",
      "\tStage 4 Generators:\n",
      "\t\tFitting DropUniqueFeatureGenerator...\n",
      "\tStage 5 Generators:\n",
      "\t\tFitting DropDuplicatesFeatureGenerator...\n",
      "\tTypes of features in original data (raw dtype, special dtypes):\n",
      "\t\t('int', [])    :  5 | ['Age', 'Working_Week (Yearly)', 'Gains', 'Losses', 'Dividends']\n",
      "\t\t('object', []) : 16 | ['Gender', 'Education_Status', 'Employment_Status', 'Industry_Status', 'Occupation_Status', ...]\n",
      "\tTypes of features in processed data (raw dtype, special dtypes):\n",
      "\t\t('category', [])  : 15 | ['Education_Status', 'Employment_Status', 'Industry_Status', 'Occupation_Status', 'Race', ...]\n",
      "\t\t('int', [])       :  5 | ['Age', 'Working_Week (Yearly)', 'Gains', 'Losses', 'Dividends']\n",
      "\t\t('int', ['bool']) :  1 | ['Gender']\n",
      "\t0.2s = Fit runtime\n",
      "\t21 features in original data used to generate 21 features in processed data.\n",
      "\tTrain Data (Processed) Memory Usage: 1.08 MB (0.0% of available memory)\n",
      "Data preprocessing and feature engineering runtime = 0.27s ...\n",
      "AutoGluon will gauge predictive performance using evaluation metric: 'root_mean_squared_error'\n",
      "\tThis metric's sign has been flipped to adhere to being higher_is_better. The metric score can be multiplied by -1 to get the metric value.\n",
      "\tTo change this, specify the eval_metric parameter of Predictor()\n",
      "User-specified model hyperparameters to be fit:\n",
      "{\n",
      "\t'NN_TORCH': {},\n",
      "\t'GBM': [{'extra_trees': True, 'ag_args': {'name_suffix': 'XT'}}, {}, 'GBMLarge'],\n",
      "\t'CAT': {},\n",
      "\t'XGB': {},\n",
      "\t'FASTAI': {},\n",
      "\t'RF': [{'criterion': 'gini', 'ag_args': {'name_suffix': 'Gini', 'problem_types': ['binary', 'multiclass']}}, {'criterion': 'entropy', 'ag_args': {'name_suffix': 'Entr', 'problem_types': ['binary', 'multiclass']}}, {'criterion': 'squared_error', 'ag_args': {'name_suffix': 'MSE', 'problem_types': ['regression', 'quantile']}}],\n",
      "\t'XT': [{'criterion': 'gini', 'ag_args': {'name_suffix': 'Gini', 'problem_types': ['binary', 'multiclass']}}, {'criterion': 'entropy', 'ag_args': {'name_suffix': 'Entr', 'problem_types': ['binary', 'multiclass']}}, {'criterion': 'squared_error', 'ag_args': {'name_suffix': 'MSE', 'problem_types': ['regression', 'quantile']}}],\n",
      "\t'KNN': [{'weights': 'uniform', 'ag_args': {'name_suffix': 'Unif'}}, {'weights': 'distance', 'ag_args': {'name_suffix': 'Dist'}}],\n",
      "}\n",
      "Fitting 11 L1 models ...\n",
      "Fitting model: KNeighborsUnif ...\n",
      "\t-655.3382\t = Validation score   (-root_mean_squared_error)\n",
      "\t0.02s\t = Training   runtime\n",
      "\t0.67s\t = Validation runtime\n",
      "Fitting model: KNeighborsDist ...\n",
      "\t-679.6678\t = Validation score   (-root_mean_squared_error)\n",
      "\t0.02s\t = Training   runtime\n",
      "\t0.38s\t = Validation runtime\n",
      "Fitting model: LightGBMXT ...\n",
      "\t-560.1141\t = Validation score   (-root_mean_squared_error)\n",
      "\t1.79s\t = Training   runtime\n",
      "\t0.02s\t = Validation runtime\n",
      "Fitting model: LightGBM ...\n",
      "\t-562.137\t = Validation score   (-root_mean_squared_error)\n",
      "\t1.52s\t = Training   runtime\n",
      "\t0.08s\t = Validation runtime\n",
      "Fitting model: RandomForestMSE ...\n",
      "\t-593.8816\t = Validation score   (-root_mean_squared_error)\n",
      "\t1.04s\t = Training   runtime\n",
      "\t0.08s\t = Validation runtime\n",
      "Fitting model: CatBoost ...\n",
      "\t-564.5919\t = Validation score   (-root_mean_squared_error)\n",
      "\t25.27s\t = Training   runtime\n",
      "\t0.03s\t = Validation runtime\n",
      "Fitting model: ExtraTreesMSE ...\n",
      "\t-593.0781\t = Validation score   (-root_mean_squared_error)\n",
      "\t0.63s\t = Training   runtime\n",
      "\t0.09s\t = Validation runtime\n",
      "Fitting model: NeuralNetFastAI ...\n",
      "No improvement since epoch 9: early stopping\n",
      "\t-564.9432\t = Validation score   (-root_mean_squared_error)\n",
      "\t35.2s\t = Training   runtime\n",
      "\t0.11s\t = Validation runtime\n",
      "Fitting model: XGBoost ...\n",
      "\t-568.3888\t = Validation score   (-root_mean_squared_error)\n",
      "\t1.5s\t = Training   runtime\n",
      "\t0.02s\t = Validation runtime\n",
      "Fitting model: NeuralNetTorch ...\n",
      "\t-573.8364\t = Validation score   (-root_mean_squared_error)\n",
      "\t28.39s\t = Training   runtime\n",
      "\t0.09s\t = Validation runtime\n",
      "Fitting model: LightGBMLarge ...\n",
      "\t-567.8593\t = Validation score   (-root_mean_squared_error)\n",
      "\t3.18s\t = Training   runtime\n",
      "\t0.02s\t = Validation runtime\n",
      "Fitting model: WeightedEnsemble_L2 ...\n",
      "\tEnsemble Weights: {'LightGBMXT': 0.536, 'NeuralNetFastAI': 0.232, 'LightGBM': 0.089, 'NeuralNetTorch': 0.071, 'RandomForestMSE': 0.054, 'KNeighborsUnif': 0.018}\n",
      "\t-558.9169\t = Validation score   (-root_mean_squared_error)\n",
      "\t0.32s\t = Training   runtime\n",
      "\t0.0s\t = Validation runtime\n",
      "AutoGluon training complete, total runtime = 101.97s ... Best model: \"WeightedEnsemble_L2\"\n",
      "TabularPredictor saved. To load, use: predictor = TabularPredictor.load(\"AutogluonModels/ag-20240407_111739\")\n"
     ]
    }
   ],
   "source": [
    "# Data import\n",
    "\n",
    "from autogluon.tabular import TabularDataset, TabularPredictor\n",
    "import pandas as pd\n",
    "\n",
    "df = pd.read_csv('train.csv')\n",
    "test = pd.read_csv('test.csv')\n",
    "\n",
    "# evaluate과 leaderboard함수에 valid 데이터를 넣어서 검증하기 위해 데이터 분할\n",
    "train = df[:int(len(df) * 0.8)]\n",
    "valid = df[int(len(df) * 0.8):]\n",
    "\n",
    "train = TabularDataset(train.drop(['ID'], axis=1))\n",
    "valid = TabularDataset(valid.drop(['ID'], axis=1))\n",
    "\n",
    "# Training\n",
    "# Define the predictor\n",
    "predictor = TabularPredictor(label='Income', eval_metric='rmse')\n",
    "\n",
    "# Training the model\n",
    "predictor.fit(train_data=train, tuning_data=valid)\n",
    "\n",
    "# Make predictions on test data\n",
    "predictions = predictor.predict(test)\n",
    "\n",
    "# Save predictions to a CSV file\n",
    "predictions.to_csv('predictions.csv', index=False)\n"
   ]
  },
  {
   "cell_type": "code",
   "execution_count": 2,
   "metadata": {
    "id": "toQl8RxigLrE",
    "tags": []
   },
   "outputs": [],
   "source": [
    "\n",
    "# Load the test data\n",
    "test_data = TabularDataset(test.drop(['ID'], axis=1))\n",
    "\n",
    "# Make predictions on the test data\n",
    "predictions = predictor.predict(test_data)\n",
    "\n",
    "# Add predictions to the test dataframe\n",
    "test['predictions'] = predictions\n",
    "\n",
    "# Save the test dataframe with predictions to a CSV file\n",
    "#test.to_csv('test_with_predictions.csv', index=False)"
   ]
  },
  {
   "cell_type": "code",
   "execution_count": 36,
   "metadata": {
    "id": "ffN6rjZegP3C",
    "tags": []
   },
   "outputs": [],
   "source": [
    "#preds = model.predict(test_x)\n",
    "submission = pd.read_csv('./sample_submission.csv')\n",
    "submission['Income'] = predictions\n",
    "submission.to_csv('./baseline_submission.csv', index=False)"
   ]
  },
  {
   "cell_type": "code",
   "execution_count": 54,
   "metadata": {
    "id": "-tdziULHgSBA",
    "tags": []
   },
   "outputs": [
    {
     "data": {
      "text/plain": [
       "0        23.832928\n",
       "1        -8.404715\n",
       "2       459.588898\n",
       "3       583.369080\n",
       "4         2.624141\n",
       "           ...    \n",
       "9995    932.753967\n",
       "9996    704.264893\n",
       "9997    394.666382\n",
       "9998      6.769224\n",
       "9999    517.470642\n",
       "Name: Income, Length: 10000, dtype: float32"
      ]
     },
     "execution_count": 54,
     "metadata": {},
     "output_type": "execute_result"
    }
   ],
   "source": [
    "predictions"
   ]
  },
  {
   "cell_type": "code",
   "execution_count": 55,
   "metadata": {},
   "outputs": [],
   "source": [
    "\n",
    "submission['Income'] = predictions\n",
    "submission.to_csv('./baseline_submission.csv', index=False)\n",
    "filtered_predictions = [i for i in predictions if i < 50]"
   ]
  },
  {
   "cell_type": "code",
   "execution_count": 56,
   "metadata": {
    "tags": []
   },
   "outputs": [],
   "source": [
    "filtered_predictions = {key: 0 if value < 100 else value for key, value in predictions.items()}\n",
    "filtered_predictions\n",
    "submission['Income'] = filtered_predictions\n",
    "submission.to_csv('./lastsum.csv', index=False)"
   ]
  },
  {
   "cell_type": "code",
   "execution_count": 57,
   "metadata": {
    "tags": []
   },
   "outputs": [],
   "source": [
    "X_test = test.query('Age>=15').rename({'Working_Week (Yearly)':'Working_Week'},axis=1)\\\n",
    ".query('Employment_Status!=\"Not Working\"').query('Working_Week!= 0 or Age<80')\\\n",
    ".query('Occupation_Status != \"Unknown\"')"
   ]
  },
  {
   "cell_type": "code",
   "execution_count": 58,
   "metadata": {
    "tags": []
   },
   "outputs": [
    {
     "data": {
      "text/plain": [
       "Index([   2,    3,    5,    6,    9,   10,   11,   12,   13,   15,\n",
       "       ...\n",
       "       9987, 9988, 9990, 9992, 9993, 9994, 9995, 9996, 9997, 9999],\n",
       "      dtype='int64', length=7673)"
      ]
     },
     "execution_count": 58,
     "metadata": {},
     "output_type": "execute_result"
    }
   ],
   "source": [
    "X_test.index"
   ]
  },
  {
   "cell_type": "code",
   "execution_count": 59,
   "metadata": {
    "tags": []
   },
   "outputs": [
    {
     "data": {
      "text/plain": [
       "2        459.588898\n",
       "3        583.369080\n",
       "5        674.038269\n",
       "6        454.338531\n",
       "9       1048.528320\n",
       "           ...     \n",
       "9994     598.612854\n",
       "9995     932.753967\n",
       "9996     704.264893\n",
       "9997     394.666382\n",
       "9999     517.470642\n",
       "Name: Income, Length: 7673, dtype: float64"
      ]
     },
     "execution_count": 59,
     "metadata": {},
     "output_type": "execute_result"
    }
   ],
   "source": [
    "pred_series = pd.Series(submission['Income'], index=X_test.index)\n",
    "pred_series"
   ]
  },
  {
   "cell_type": "code",
   "execution_count": 60,
   "metadata": {
    "tags": []
   },
   "outputs": [
    {
     "data": {
      "text/plain": [
       "0         0.000000\n",
       "1         0.000000\n",
       "2       459.588898\n",
       "3       583.369080\n",
       "4         0.000000\n",
       "           ...    \n",
       "9995    932.753967\n",
       "9996    704.264893\n",
       "9997    394.666382\n",
       "9998      0.000000\n",
       "9999    517.470642\n",
       "Name: Income, Length: 10000, dtype: float64"
      ]
     },
     "execution_count": 60,
     "metadata": {},
     "output_type": "execute_result"
    }
   ],
   "source": [
    "submission['Income']"
   ]
  },
  {
   "cell_type": "code",
   "execution_count": 61,
   "metadata": {
    "tags": []
   },
   "outputs": [
    {
     "data": {
      "text/html": [
       "<div>\n",
       "<style scoped>\n",
       "    .dataframe tbody tr th:only-of-type {\n",
       "        vertical-align: middle;\n",
       "    }\n",
       "\n",
       "    .dataframe tbody tr th {\n",
       "        vertical-align: top;\n",
       "    }\n",
       "\n",
       "    .dataframe thead th {\n",
       "        text-align: right;\n",
       "    }\n",
       "</style>\n",
       "<table border=\"1\" class=\"dataframe\">\n",
       "  <thead>\n",
       "    <tr style=\"text-align: right;\">\n",
       "      <th></th>\n",
       "      <th>ID</th>\n",
       "      <th>Income</th>\n",
       "    </tr>\n",
       "  </thead>\n",
       "  <tbody>\n",
       "    <tr>\n",
       "      <th>0</th>\n",
       "      <td>TEST_0000</td>\n",
       "      <td>0.000000</td>\n",
       "    </tr>\n",
       "    <tr>\n",
       "      <th>1</th>\n",
       "      <td>TEST_0001</td>\n",
       "      <td>0.000000</td>\n",
       "    </tr>\n",
       "    <tr>\n",
       "      <th>2</th>\n",
       "      <td>TEST_0002</td>\n",
       "      <td>459.588898</td>\n",
       "    </tr>\n",
       "    <tr>\n",
       "      <th>3</th>\n",
       "      <td>TEST_0003</td>\n",
       "      <td>583.369080</td>\n",
       "    </tr>\n",
       "    <tr>\n",
       "      <th>4</th>\n",
       "      <td>TEST_0004</td>\n",
       "      <td>0.000000</td>\n",
       "    </tr>\n",
       "    <tr>\n",
       "      <th>...</th>\n",
       "      <td>...</td>\n",
       "      <td>...</td>\n",
       "    </tr>\n",
       "    <tr>\n",
       "      <th>9995</th>\n",
       "      <td>TEST_9995</td>\n",
       "      <td>932.753967</td>\n",
       "    </tr>\n",
       "    <tr>\n",
       "      <th>9996</th>\n",
       "      <td>TEST_9996</td>\n",
       "      <td>704.264893</td>\n",
       "    </tr>\n",
       "    <tr>\n",
       "      <th>9997</th>\n",
       "      <td>TEST_9997</td>\n",
       "      <td>394.666382</td>\n",
       "    </tr>\n",
       "    <tr>\n",
       "      <th>9998</th>\n",
       "      <td>TEST_9998</td>\n",
       "      <td>0.000000</td>\n",
       "    </tr>\n",
       "    <tr>\n",
       "      <th>9999</th>\n",
       "      <td>TEST_9999</td>\n",
       "      <td>517.470642</td>\n",
       "    </tr>\n",
       "  </tbody>\n",
       "</table>\n",
       "<p>10000 rows × 2 columns</p>\n",
       "</div>"
      ],
      "text/plain": [
       "             ID      Income\n",
       "0     TEST_0000    0.000000\n",
       "1     TEST_0001    0.000000\n",
       "2     TEST_0002  459.588898\n",
       "3     TEST_0003  583.369080\n",
       "4     TEST_0004    0.000000\n",
       "...         ...         ...\n",
       "9995  TEST_9995  932.753967\n",
       "9996  TEST_9996  704.264893\n",
       "9997  TEST_9997  394.666382\n",
       "9998  TEST_9998    0.000000\n",
       "9999  TEST_9999  517.470642\n",
       "\n",
       "[10000 rows x 2 columns]"
      ]
     },
     "execution_count": 61,
     "metadata": {},
     "output_type": "execute_result"
    }
   ],
   "source": [
    "submission.loc[X_test.index.difference(X_test.index), 'Income'] = 0\n",
    "submission.loc[X_test.index, 'Income'] = pred_series\n",
    "submission"
   ]
  },
  {
   "cell_type": "code",
   "execution_count": 62,
   "metadata": {
    "tags": []
   },
   "outputs": [],
   "source": [
    "submission.to_csv('submitgg.csv',index=False)"
   ]
  },
  {
   "cell_type": "code",
   "execution_count": null,
   "metadata": {},
   "outputs": [],
   "source": []
  }
 ],
 "metadata": {
  "colab": {
   "provenance": []
  },
  "kernelspec": {
   "display_name": "deep",
   "language": "python",
   "name": "deep"
  },
  "language_info": {
   "codemirror_mode": {
    "name": "ipython",
    "version": 3
   },
   "file_extension": ".py",
   "mimetype": "text/x-python",
   "name": "python",
   "nbconvert_exporter": "python",
   "pygments_lexer": "ipython3",
   "version": "3.10.13"
  }
 },
 "nbformat": 4,
 "nbformat_minor": 4
}
