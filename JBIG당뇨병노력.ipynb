{
 "cells": [
  {
   "cell_type": "code",
   "execution_count": 101,
   "id": "78da58d4-ae60-4c11-b4d6-548a4bd3824f",
   "metadata": {},
   "outputs": [
    {
     "data": {
      "text/html": [
       "<div>\n",
       "<style scoped>\n",
       "    .dataframe tbody tr th:only-of-type {\n",
       "        vertical-align: middle;\n",
       "    }\n",
       "\n",
       "    .dataframe tbody tr th {\n",
       "        vertical-align: top;\n",
       "    }\n",
       "\n",
       "    .dataframe thead th {\n",
       "        text-align: right;\n",
       "    }\n",
       "</style>\n",
       "<table border=\"1\" class=\"dataframe\">\n",
       "  <thead>\n",
       "    <tr style=\"text-align: right;\">\n",
       "      <th></th>\n",
       "      <th>Pregnancies</th>\n",
       "      <th>Glucose</th>\n",
       "      <th>BloodPressure</th>\n",
       "      <th>SkinThickness</th>\n",
       "      <th>Insulin</th>\n",
       "      <th>BMI</th>\n",
       "      <th>DiabetesPedigreeFunction</th>\n",
       "      <th>Age</th>\n",
       "      <th>Q1</th>\n",
       "    </tr>\n",
       "  </thead>\n",
       "  <tbody>\n",
       "    <tr>\n",
       "      <th>0</th>\n",
       "      <td>5</td>\n",
       "      <td>112</td>\n",
       "      <td>66</td>\n",
       "      <td>29.107143</td>\n",
       "      <td>0</td>\n",
       "      <td>37.8</td>\n",
       "      <td>0.261</td>\n",
       "      <td>41</td>\n",
       "      <td>0</td>\n",
       "    </tr>\n",
       "    <tr>\n",
       "      <th>1</th>\n",
       "      <td>3</td>\n",
       "      <td>107</td>\n",
       "      <td>62</td>\n",
       "      <td>13.000000</td>\n",
       "      <td>48</td>\n",
       "      <td>22.9</td>\n",
       "      <td>0.678</td>\n",
       "      <td>23</td>\n",
       "      <td>0</td>\n",
       "    </tr>\n",
       "    <tr>\n",
       "      <th>2</th>\n",
       "      <td>3</td>\n",
       "      <td>113</td>\n",
       "      <td>44</td>\n",
       "      <td>13.000000</td>\n",
       "      <td>0</td>\n",
       "      <td>22.4</td>\n",
       "      <td>0.140</td>\n",
       "      <td>22</td>\n",
       "      <td>0</td>\n",
       "    </tr>\n",
       "    <tr>\n",
       "      <th>3</th>\n",
       "      <td>6</td>\n",
       "      <td>190</td>\n",
       "      <td>92</td>\n",
       "      <td>29.107143</td>\n",
       "      <td>0</td>\n",
       "      <td>35.5</td>\n",
       "      <td>0.278</td>\n",
       "      <td>66</td>\n",
       "      <td>0</td>\n",
       "    </tr>\n",
       "    <tr>\n",
       "      <th>4</th>\n",
       "      <td>1</td>\n",
       "      <td>107</td>\n",
       "      <td>72</td>\n",
       "      <td>30.000000</td>\n",
       "      <td>82</td>\n",
       "      <td>30.8</td>\n",
       "      <td>0.821</td>\n",
       "      <td>24</td>\n",
       "      <td>0</td>\n",
       "    </tr>\n",
       "    <tr>\n",
       "      <th>...</th>\n",
       "      <td>...</td>\n",
       "      <td>...</td>\n",
       "      <td>...</td>\n",
       "      <td>...</td>\n",
       "      <td>...</td>\n",
       "      <td>...</td>\n",
       "      <td>...</td>\n",
       "      <td>...</td>\n",
       "      <td>...</td>\n",
       "    </tr>\n",
       "    <tr>\n",
       "      <th>111</th>\n",
       "      <td>10</td>\n",
       "      <td>111</td>\n",
       "      <td>70</td>\n",
       "      <td>27.000000</td>\n",
       "      <td>0</td>\n",
       "      <td>27.5</td>\n",
       "      <td>0.141</td>\n",
       "      <td>40</td>\n",
       "      <td>0</td>\n",
       "    </tr>\n",
       "    <tr>\n",
       "      <th>112</th>\n",
       "      <td>1</td>\n",
       "      <td>119</td>\n",
       "      <td>54</td>\n",
       "      <td>13.000000</td>\n",
       "      <td>50</td>\n",
       "      <td>22.3</td>\n",
       "      <td>0.205</td>\n",
       "      <td>24</td>\n",
       "      <td>0</td>\n",
       "    </tr>\n",
       "    <tr>\n",
       "      <th>113</th>\n",
       "      <td>3</td>\n",
       "      <td>187</td>\n",
       "      <td>70</td>\n",
       "      <td>22.000000</td>\n",
       "      <td>200</td>\n",
       "      <td>36.4</td>\n",
       "      <td>0.408</td>\n",
       "      <td>36</td>\n",
       "      <td>0</td>\n",
       "    </tr>\n",
       "    <tr>\n",
       "      <th>114</th>\n",
       "      <td>3</td>\n",
       "      <td>100</td>\n",
       "      <td>68</td>\n",
       "      <td>23.000000</td>\n",
       "      <td>81</td>\n",
       "      <td>31.6</td>\n",
       "      <td>0.949</td>\n",
       "      <td>28</td>\n",
       "      <td>0</td>\n",
       "    </tr>\n",
       "    <tr>\n",
       "      <th>115</th>\n",
       "      <td>2</td>\n",
       "      <td>84</td>\n",
       "      <td>0</td>\n",
       "      <td>29.107143</td>\n",
       "      <td>0</td>\n",
       "      <td>0.0</td>\n",
       "      <td>0.304</td>\n",
       "      <td>21</td>\n",
       "      <td>0</td>\n",
       "    </tr>\n",
       "  </tbody>\n",
       "</table>\n",
       "<p>116 rows × 9 columns</p>\n",
       "</div>"
      ],
      "text/plain": [
       "     Pregnancies  Glucose  BloodPressure  SkinThickness  Insulin   BMI  \\\n",
       "0              5      112             66      29.107143        0  37.8   \n",
       "1              3      107             62      13.000000       48  22.9   \n",
       "2              3      113             44      13.000000        0  22.4   \n",
       "3              6      190             92      29.107143        0  35.5   \n",
       "4              1      107             72      30.000000       82  30.8   \n",
       "..           ...      ...            ...            ...      ...   ...   \n",
       "111           10      111             70      27.000000        0  27.5   \n",
       "112            1      119             54      13.000000       50  22.3   \n",
       "113            3      187             70      22.000000      200  36.4   \n",
       "114            3      100             68      23.000000       81  31.6   \n",
       "115            2       84              0      29.107143        0   0.0   \n",
       "\n",
       "     DiabetesPedigreeFunction  Age  Q1  \n",
       "0                       0.261   41   0  \n",
       "1                       0.678   23   0  \n",
       "2                       0.140   22   0  \n",
       "3                       0.278   66   0  \n",
       "4                       0.821   24   0  \n",
       "..                        ...  ...  ..  \n",
       "111                     0.141   40   0  \n",
       "112                     0.205   24   0  \n",
       "113                     0.408   36   0  \n",
       "114                     0.949   28   0  \n",
       "115                     0.304   21   0  \n",
       "\n",
       "[116 rows x 9 columns]"
      ]
     },
     "execution_count": 101,
     "metadata": {},
     "output_type": "execute_result"
    }
   ],
   "source": [
    "test"
   ]
  },
  {
   "cell_type": "code",
   "execution_count": 108,
   "id": "f8b7f3a1-e8bc-4ab7-ad0c-54d4232a816b",
   "metadata": {},
   "outputs": [
    {
     "name": "stdout",
     "output_type": "stream",
     "text": [
      "Accuracy: 0.75\n"
     ]
    }
   ],
   "source": [
    "import pandas as pd\n",
    "\n",
    "# 데이터 불러오기\n",
    "train = pd.read_csv('train.csv')\n",
    "test = pd.read_csv('test.csv')\n",
    "submit = pd.read_csv('sample_submission.csv')\n",
    "# 전처리\n",
    "# 훈련 및 테스트 세트 모두에서 'ID' 열을 삭제하세요. 학습에 불필요한 칼럼입니다.\n",
    "train = train.drop(['ID','BloodPressure'], axis = 1)\n",
    "test = test.drop(['ID','BloodPressure'],axis = 1)\n",
    "\n",
    "mean_value = train['SkinThickness'][train['SkinThickness'] != 0].mean()\n",
    "train['SkinThickness'] = train['SkinThickness'].replace(0, mean_value)\n",
    "train['Q1'] = 0\n",
    "train.loc[(train['DiabetesPedigreeFunction'] > 0.8), 'Q1'] = 1\n",
    "\n",
    "mean_value1 = test['SkinThickness'][test['SkinThickness'] != 0].mean()\n",
    "test['SkinThickness'] = test['SkinThickness'].replace(0, mean_value1)\n",
    "test['Q1'] = 0\n",
    "\n",
    "# mean_value1 = train['Insulin'][train['Insulin'] != 0].mean()\n",
    "# train['Insulin'] = train['Insulin'].replace(0, mean_value1)\n",
    "\n",
    "# Train set을 독립변수(X)와 종속변수(y)로 나누세요\n",
    "X = train.drop('Outcome', axis =1)\n",
    "y = train['Outcome']\n",
    "# sklearn의 train_test_split을 사용하여 Train set와 Test set으로 분할하세요\n",
    "from sklearn.model_selection import train_test_split\n",
    "X_train, X_test, y_train, y_test = train_test_split(X, y, test_size =0.3)\n",
    "\n",
    "\n",
    "# 모델 정의 및 학습\n",
    "# sklearn의 RandomForestClassifier를 정의하고 Train set에 대해 학습해세요\n",
    "from sklearn.ensemble import RandomForestClassifier\n",
    "from sklearn.metrics import accuracy_score\n",
    "\n",
    "# 1. 모델 초기화\n",
    "random_forest_model = RandomForestClassifier(n_estimators=400, # 트리의 개수\n",
    "                                             random_state=42)  # 결과의 재현성을 위한 랜덤 시드 설정\n",
    "\n",
    "# 2. 모델 학습\n",
    "random_forest_model.fit(X_train, y_train)\n",
    "\n",
    "# 3. 테스트 데이터에 대한 예측\n",
    "y_pred = random_forest_model.predict(X_test)\n",
    "\n",
    "# 4. 모델의 정확도 평가\n",
    "accuracy = accuracy_score(y_test, y_pred)\n",
    "print(f\"Accuracy: {accuracy:.2f}\")\n",
    "\n",
    "\n",
    "\n",
    "# 모델 예측\n",
    "# Test set에서 예측을 수행하세요\n",
    "y_test = random_forest_model.predict(test)\n",
    "submit['Outcome'] = y_test\n",
    "\n",
    "submit.to_csv('RandomForest3.csv', index = False)\n",
    "\n",
    "# 모델 평가\n",
    "# sklearn.metrics의 accuracy_score를 사용하여 모델의 성능을 평가하세요\n",
    "\n",
    "\n",
    "# test데이터 예측 및 제출\n",
    "# 대회에 결과를 제출하기 위해서 test.csv 데이터에 학습한 모델로 예측을 수행하세요\n",
    "\n",
    "\n",
    "# 제출할 파일 생성 및 저장"
   ]
  },
  {
   "cell_type": "code",
   "execution_count": 35,
   "id": "dc001be0-dc6a-4435-af0d-cd838540cd0d",
   "metadata": {},
   "outputs": [
    {
     "data": {
      "text/plain": [
       "(29.759772902004855, 29.26923076923077)"
      ]
     },
     "execution_count": 35,
     "metadata": {},
     "output_type": "execute_result"
    }
   ],
   "source": [
    "X_train.SkinThickness[X_train.Insulin==0].mean(), X_train.SkinThickness[X_train.Insulin!=0].mean()"
   ]
  },
  {
   "cell_type": "code",
   "execution_count": 82,
   "id": "a1e751f3-15c6-4df2-9492-d2783a89e6ac",
   "metadata": {},
   "outputs": [
    {
     "data": {
      "text/plain": [
       "(0.46513343558282205, 0.32949625329996746)"
      ]
     },
     "execution_count": 82,
     "metadata": {},
     "output_type": "execute_result"
    }
   ],
   "source": [
    "train['DiabetesPedigreeFunction'].mean() , train['DiabetesPedigreeFunction'].std()"
   ]
  },
  {
   "cell_type": "code",
   "execution_count": null,
   "id": "a5e34629-58d6-4441-89c0-523f82c14c7a",
   "metadata": {},
   "outputs": [],
   "source": []
  },
  {
   "cell_type": "code",
   "execution_count": 84,
   "id": "7efdc20a-4e71-4043-b7da-5ab6686dd8b6",
   "metadata": {
    "scrolled": true
   },
   "outputs": [
    {
     "data": {
      "text/plain": [
       "(array([276., 168., 118.,  45.,  19.,  15.,   3.,   4.,   1.,   3.]),\n",
       " array([0.084 , 0.3085, 0.533 , 0.7575, 0.982 , 1.2065, 1.431 , 1.6555,\n",
       "        1.88  , 2.1045, 2.329 ]),\n",
       " <BarContainer object of 10 artists>)"
      ]
     },
     "execution_count": 84,
     "metadata": {},
     "output_type": "execute_result"
    },
    {
     "data": {
      "image/png": "[encoded data removed]",
      "text/plain": [
       "<Figure size 640x480 with 1 Axes>"
      ]
     },
     "metadata": {},
     "output_type": "display_data"
    }
   ],
   "source": [
    "import matplotlib.pyplot as plt\n",
    "plt.hist(data=train, x= 'DiabetesPedigreeFunction')\n"
   ]
  },
  {
   "cell_type": "code",
   "execution_count": 87,
   "id": "0620ee37-afbe-4869-bba9-b77a10bc4243",
   "metadata": {},
   "outputs": [
    {
     "name": "stderr",
     "output_type": "stream",
     "text": [
      "/tmp/ipykernel_33171/1536184859.py:7: FutureWarning: The default of observed=False is deprecated and will be changed to True in a future version of pandas. Pass observed=False to retain current behavior or observed=True to adopt the future default and silence this warning.\n",
      "  outcome_means = train.groupby('PedigreeGroup')['Outcome'].mean()\n"
     ]
    },
    {
     "data": {
      "image/png": "[encoded data removed]",
      "text/plain": [
       "<Figure size 640x480 with 1 Axes>"
      ]
     },
     "metadata": {},
     "output_type": "display_data"
    }
   ],
   "source": [
    "import matplotlib.pyplot as plt\n",
    "\n",
    "# 'DiabetesPedigreeFunction'을 구간으로 나누기\n",
    "train['PedigreeGroup'] = pd.cut(train['DiabetesPedigreeFunction'], bins=5)\n",
    "\n",
    "# 구간별 'Outcome'의 평균 계산\n",
    "outcome_means = train.groupby('PedigreeGroup')['Outcome'].mean()\n",
    "\n",
    "# 그래프 그리기\n",
    "plt.bar(x=outcome_means.index.astype(str), height=outcome_means)\n",
    "plt.xlabel('DiabetesPedigreeFunction Group')\n",
    "plt.ylabel('Mean Outcome')\n",
    "plt.title('Mean Outcome by DiabetesPedigreeFunction Group')\n",
    "plt.show()\n"
   ]
  },
  {
   "cell_type": "code",
   "execution_count": 38,
   "id": "3ed133ff-21fe-4962-b216-4a7eafbc4646",
   "metadata": {},
   "outputs": [
    {
     "data": {
      "text/html": [
       "<div>\n",
       "<style scoped>\n",
       "    .dataframe tbody tr th:only-of-type {\n",
       "        vertical-align: middle;\n",
       "    }\n",
       "\n",
       "    .dataframe tbody tr th {\n",
       "        vertical-align: top;\n",
       "    }\n",
       "\n",
       "    .dataframe thead th {\n",
       "        text-align: right;\n",
       "    }\n",
       "</style>\n",
       "<table border=\"1\" class=\"dataframe\">\n",
       "  <thead>\n",
       "    <tr style=\"text-align: right;\">\n",
       "      <th></th>\n",
       "      <th>Pregnancies</th>\n",
       "      <th>Glucose</th>\n",
       "      <th>BloodPressure</th>\n",
       "      <th>SkinThickness</th>\n",
       "      <th>Insulin</th>\n",
       "      <th>BMI</th>\n",
       "      <th>DiabetesPedigreeFunction</th>\n",
       "      <th>Age</th>\n",
       "      <th>Outcome</th>\n",
       "    </tr>\n",
       "  </thead>\n",
       "  <tbody>\n",
       "    <tr>\n",
       "      <th>0</th>\n",
       "      <td>4</td>\n",
       "      <td>103</td>\n",
       "      <td>60</td>\n",
       "      <td>33.000000</td>\n",
       "      <td>192</td>\n",
       "      <td>24.0</td>\n",
       "      <td>0.966</td>\n",
       "      <td>33</td>\n",
       "      <td>0</td>\n",
       "    </tr>\n",
       "    <tr>\n",
       "      <th>1</th>\n",
       "      <td>10</td>\n",
       "      <td>133</td>\n",
       "      <td>68</td>\n",
       "      <td>29.161926</td>\n",
       "      <td>0</td>\n",
       "      <td>27.0</td>\n",
       "      <td>0.245</td>\n",
       "      <td>36</td>\n",
       "      <td>0</td>\n",
       "    </tr>\n",
       "    <tr>\n",
       "      <th>2</th>\n",
       "      <td>4</td>\n",
       "      <td>112</td>\n",
       "      <td>78</td>\n",
       "      <td>40.000000</td>\n",
       "      <td>0</td>\n",
       "      <td>39.4</td>\n",
       "      <td>0.236</td>\n",
       "      <td>38</td>\n",
       "      <td>0</td>\n",
       "    </tr>\n",
       "    <tr>\n",
       "      <th>3</th>\n",
       "      <td>1</td>\n",
       "      <td>119</td>\n",
       "      <td>88</td>\n",
       "      <td>41.000000</td>\n",
       "      <td>170</td>\n",
       "      <td>45.3</td>\n",
       "      <td>0.507</td>\n",
       "      <td>26</td>\n",
       "      <td>0</td>\n",
       "    </tr>\n",
       "    <tr>\n",
       "      <th>4</th>\n",
       "      <td>1</td>\n",
       "      <td>114</td>\n",
       "      <td>66</td>\n",
       "      <td>36.000000</td>\n",
       "      <td>200</td>\n",
       "      <td>38.1</td>\n",
       "      <td>0.289</td>\n",
       "      <td>21</td>\n",
       "      <td>0</td>\n",
       "    </tr>\n",
       "    <tr>\n",
       "      <th>5</th>\n",
       "      <td>3</td>\n",
       "      <td>78</td>\n",
       "      <td>50</td>\n",
       "      <td>32.000000</td>\n",
       "      <td>88</td>\n",
       "      <td>31.0</td>\n",
       "      <td>0.248</td>\n",
       "      <td>26</td>\n",
       "      <td>1</td>\n",
       "    </tr>\n",
       "    <tr>\n",
       "      <th>6</th>\n",
       "      <td>1</td>\n",
       "      <td>91</td>\n",
       "      <td>54</td>\n",
       "      <td>25.000000</td>\n",
       "      <td>100</td>\n",
       "      <td>25.2</td>\n",
       "      <td>0.234</td>\n",
       "      <td>23</td>\n",
       "      <td>0</td>\n",
       "    </tr>\n",
       "    <tr>\n",
       "      <th>7</th>\n",
       "      <td>5</td>\n",
       "      <td>117</td>\n",
       "      <td>86</td>\n",
       "      <td>30.000000</td>\n",
       "      <td>105</td>\n",
       "      <td>39.1</td>\n",
       "      <td>0.251</td>\n",
       "      <td>42</td>\n",
       "      <td>0</td>\n",
       "    </tr>\n",
       "    <tr>\n",
       "      <th>8</th>\n",
       "      <td>1</td>\n",
       "      <td>124</td>\n",
       "      <td>60</td>\n",
       "      <td>32.000000</td>\n",
       "      <td>0</td>\n",
       "      <td>35.8</td>\n",
       "      <td>0.514</td>\n",
       "      <td>21</td>\n",
       "      <td>0</td>\n",
       "    </tr>\n",
       "    <tr>\n",
       "      <th>9</th>\n",
       "      <td>1</td>\n",
       "      <td>167</td>\n",
       "      <td>74</td>\n",
       "      <td>17.000000</td>\n",
       "      <td>144</td>\n",
       "      <td>23.4</td>\n",
       "      <td>0.447</td>\n",
       "      <td>33</td>\n",
       "      <td>1</td>\n",
       "    </tr>\n",
       "    <tr>\n",
       "      <th>10</th>\n",
       "      <td>4</td>\n",
       "      <td>145</td>\n",
       "      <td>82</td>\n",
       "      <td>18.000000</td>\n",
       "      <td>0</td>\n",
       "      <td>32.5</td>\n",
       "      <td>0.235</td>\n",
       "      <td>70</td>\n",
       "      <td>1</td>\n",
       "    </tr>\n",
       "    <tr>\n",
       "      <th>11</th>\n",
       "      <td>8</td>\n",
       "      <td>124</td>\n",
       "      <td>76</td>\n",
       "      <td>24.000000</td>\n",
       "      <td>600</td>\n",
       "      <td>28.7</td>\n",
       "      <td>0.687</td>\n",
       "      <td>52</td>\n",
       "      <td>1</td>\n",
       "    </tr>\n",
       "    <tr>\n",
       "      <th>12</th>\n",
       "      <td>4</td>\n",
       "      <td>184</td>\n",
       "      <td>78</td>\n",
       "      <td>39.000000</td>\n",
       "      <td>277</td>\n",
       "      <td>37.0</td>\n",
       "      <td>0.264</td>\n",
       "      <td>31</td>\n",
       "      <td>1</td>\n",
       "    </tr>\n",
       "    <tr>\n",
       "      <th>13</th>\n",
       "      <td>6</td>\n",
       "      <td>134</td>\n",
       "      <td>70</td>\n",
       "      <td>23.000000</td>\n",
       "      <td>130</td>\n",
       "      <td>35.4</td>\n",
       "      <td>0.542</td>\n",
       "      <td>29</td>\n",
       "      <td>1</td>\n",
       "    </tr>\n",
       "    <tr>\n",
       "      <th>14</th>\n",
       "      <td>9</td>\n",
       "      <td>134</td>\n",
       "      <td>74</td>\n",
       "      <td>33.000000</td>\n",
       "      <td>60</td>\n",
       "      <td>25.9</td>\n",
       "      <td>0.460</td>\n",
       "      <td>81</td>\n",
       "      <td>0</td>\n",
       "    </tr>\n",
       "    <tr>\n",
       "      <th>15</th>\n",
       "      <td>5</td>\n",
       "      <td>103</td>\n",
       "      <td>108</td>\n",
       "      <td>37.000000</td>\n",
       "      <td>0</td>\n",
       "      <td>39.2</td>\n",
       "      <td>0.305</td>\n",
       "      <td>65</td>\n",
       "      <td>0</td>\n",
       "    </tr>\n",
       "    <tr>\n",
       "      <th>16</th>\n",
       "      <td>0</td>\n",
       "      <td>113</td>\n",
       "      <td>76</td>\n",
       "      <td>29.161926</td>\n",
       "      <td>0</td>\n",
       "      <td>33.3</td>\n",
       "      <td>0.278</td>\n",
       "      <td>23</td>\n",
       "      <td>1</td>\n",
       "    </tr>\n",
       "    <tr>\n",
       "      <th>17</th>\n",
       "      <td>2</td>\n",
       "      <td>155</td>\n",
       "      <td>74</td>\n",
       "      <td>17.000000</td>\n",
       "      <td>96</td>\n",
       "      <td>26.6</td>\n",
       "      <td>0.433</td>\n",
       "      <td>27</td>\n",
       "      <td>1</td>\n",
       "    </tr>\n",
       "    <tr>\n",
       "      <th>18</th>\n",
       "      <td>5</td>\n",
       "      <td>77</td>\n",
       "      <td>82</td>\n",
       "      <td>41.000000</td>\n",
       "      <td>42</td>\n",
       "      <td>35.8</td>\n",
       "      <td>0.156</td>\n",
       "      <td>35</td>\n",
       "      <td>0</td>\n",
       "    </tr>\n",
       "    <tr>\n",
       "      <th>19</th>\n",
       "      <td>4</td>\n",
       "      <td>95</td>\n",
       "      <td>64</td>\n",
       "      <td>29.161926</td>\n",
       "      <td>0</td>\n",
       "      <td>32.0</td>\n",
       "      <td>0.161</td>\n",
       "      <td>31</td>\n",
       "      <td>1</td>\n",
       "    </tr>\n",
       "  </tbody>\n",
       "</table>\n",
       "</div>"
      ],
      "text/plain": [
       "    Pregnancies  Glucose  BloodPressure  SkinThickness  Insulin   BMI  \\\n",
       "0             4      103             60      33.000000      192  24.0   \n",
       "1            10      133             68      29.161926        0  27.0   \n",
       "2             4      112             78      40.000000        0  39.4   \n",
       "3             1      119             88      41.000000      170  45.3   \n",
       "4             1      114             66      36.000000      200  38.1   \n",
       "5             3       78             50      32.000000       88  31.0   \n",
       "6             1       91             54      25.000000      100  25.2   \n",
       "7             5      117             86      30.000000      105  39.1   \n",
       "8             1      124             60      32.000000        0  35.8   \n",
       "9             1      167             74      17.000000      144  23.4   \n",
       "10            4      145             82      18.000000        0  32.5   \n",
       "11            8      124             76      24.000000      600  28.7   \n",
       "12            4      184             78      39.000000      277  37.0   \n",
       "13            6      134             70      23.000000      130  35.4   \n",
       "14            9      134             74      33.000000       60  25.9   \n",
       "15            5      103            108      37.000000        0  39.2   \n",
       "16            0      113             76      29.161926        0  33.3   \n",
       "17            2      155             74      17.000000       96  26.6   \n",
       "18            5       77             82      41.000000       42  35.8   \n",
       "19            4       95             64      29.161926        0  32.0   \n",
       "\n",
       "    DiabetesPedigreeFunction  Age  Outcome  \n",
       "0                      0.966   33        0  \n",
       "1                      0.245   36        0  \n",
       "2                      0.236   38        0  \n",
       "3                      0.507   26        0  \n",
       "4                      0.289   21        0  \n",
       "5                      0.248   26        1  \n",
       "6                      0.234   23        0  \n",
       "7                      0.251   42        0  \n",
       "8                      0.514   21        0  \n",
       "9                      0.447   33        1  \n",
       "10                     0.235   70        1  \n",
       "11                     0.687   52        1  \n",
       "12                     0.264   31        1  \n",
       "13                     0.542   29        1  \n",
       "14                     0.460   81        0  \n",
       "15                     0.305   65        0  \n",
       "16                     0.278   23        1  \n",
       "17                     0.433   27        1  \n",
       "18                     0.156   35        0  \n",
       "19                     0.161   31        1  "
      ]
     },
     "execution_count": 38,
     "metadata": {},
     "output_type": "execute_result"
    }
   ],
   "source": [
    "train.head(20)"
   ]
  },
  {
   "cell_type": "code",
   "execution_count": 40,
   "id": "0338fe82-f2e1-4347-8ad3-5a4637ca536e",
   "metadata": {},
   "outputs": [
    {
     "data": {
      "text/plain": [
       "(0.3805031446540881, 0.3203592814371258)"
      ]
     },
     "execution_count": 40,
     "metadata": {},
     "output_type": "execute_result"
    }
   ],
   "source": [
    "train.Outcome[train.Insulin==0].mean() , train.Outcome[train.Insulin!=0].mean()"
   ]
  },
  {
   "cell_type": "code",
   "execution_count": 42,
   "id": "9d4b2f35-02a0-4e9c-b780-7d9048473d6a",
   "metadata": {},
   "outputs": [
    {
     "data": {
      "text/plain": [
       "318"
      ]
     },
     "execution_count": 42,
     "metadata": {},
     "output_type": "execute_result"
    }
   ],
   "source": [
    "sum(train.Insulin==0)"
   ]
  },
  {
   "cell_type": "code",
   "execution_count": 43,
   "id": "6690c440-e8dc-49bb-9796-44f6f4446e0b",
   "metadata": {},
   "outputs": [
    {
     "data": {
      "text/plain": [
       "334"
      ]
     },
     "execution_count": 43,
     "metadata": {},
     "output_type": "execute_result"
    }
   ],
   "source": [
    "sum(train.Insulin0)"
   ]
  },
  {
   "cell_type": "code",
   "execution_count": 103,
   "id": "bdfd47fb-3801-4d30-b448-30875fe43d90",
   "metadata": {},
   "outputs": [
    {
     "data": {
      "text/plain": [
       "0.37423312883435583"
      ]
     },
     "execution_count": 103,
     "metadata": {},
     "output_type": "execute_result"
    }
   ],
   "source": [
    "train.Outcome[train.BloodPressure].mean()"
   ]
  },
  {
   "cell_type": "code",
   "execution_count": 104,
   "id": "e2ac26c8-1327-4705-a0bb-d3d586e09352",
   "metadata": {},
   "outputs": [
    {
     "data": {
      "text/plain": [
       "0.342443729903537"
      ]
     },
     "execution_count": 104,
     "metadata": {},
     "output_type": "execute_result"
    }
   ],
   "source": [
    "train.Outcome[train.BloodPressure!=0].mean()"
   ]
  },
  {
   "cell_type": "code",
   "execution_count": 105,
   "id": "426b8cb5-84d7-4e6d-a661-f8543b2cc77d",
   "metadata": {},
   "outputs": [
    {
     "data": {
      "text/plain": [
       "0.5"
      ]
     },
     "execution_count": 105,
     "metadata": {},
     "output_type": "execute_result"
    }
   ],
   "source": [
    "train.Outcome[train.BloodPressure==0].mean()"
   ]
  },
  {
   "cell_type": "code",
   "execution_count": 48,
   "id": "176976cd-fc37-4865-babc-d0a7f2878c24",
   "metadata": {},
   "outputs": [
    {
     "data": {
      "text/plain": [
       "0.3157894736842105"
      ]
     },
     "execution_count": 48,
     "metadata": {},
     "output_type": "execute_result"
    }
   ],
   "source": [
    "train.Outcome[train.Insulin<train.Insulin[train.Insulin!=0].mean()].mean()"
   ]
  },
  {
   "cell_type": "code",
   "execution_count": 52,
   "id": "6aa43853-4ea8-49a5-99cb-df4c849b36a1",
   "metadata": {},
   "outputs": [
    {
     "data": {
      "text/plain": [
       "1      0\n",
       "2      0\n",
       "8      0\n",
       "10     0\n",
       "15     0\n",
       "      ..\n",
       "646    0\n",
       "647    0\n",
       "648    0\n",
       "649    0\n",
       "651    0\n",
       "Name: Insulin, Length: 318, dtype: int64"
      ]
     },
     "execution_count": 52,
     "metadata": {},
     "output_type": "execute_result"
    }
   ],
   "source": [
    "train.Insulin[train.Insulin==0]"
   ]
  },
  {
   "cell_type": "code",
   "execution_count": 63,
   "id": "c05b37cf-a7aa-4703-9359-974b780a28db",
   "metadata": {},
   "outputs": [
    {
     "data": {
      "text/plain": [
       "0.7878744939271255"
      ]
     },
     "execution_count": 63,
     "metadata": {},
     "output_type": "execute_result"
    }
   ],
   "source": [
    "train.DiabetesPedigreeFunction[train.DiabetesPedigreeFunction>train.DiabetesPedigreeFunction.mean()].mean()"
   ]
  },
  {
   "cell_type": "code",
   "execution_count": 64,
   "id": "bdf26746-e9ad-4121-8618-3d48a5a64958",
   "metadata": {},
   "outputs": [
    {
     "data": {
      "text/plain": [
       "0.2683012345679012"
      ]
     },
     "execution_count": 64,
     "metadata": {},
     "output_type": "execute_result"
    }
   ],
   "source": [
    "train.DiabetesPedigreeFunction[train.DiabetesPedigreeFunction<train.DiabetesPedigreeFunction.mean()].mean()"
   ]
  },
  {
   "cell_type": "code",
   "execution_count": 68,
   "id": "07e4d35b-608e-4db7-a10a-b1cef1367bde",
   "metadata": {},
   "outputs": [
    {
     "data": {
      "text/plain": [
       "0.3821782178217822"
      ]
     },
     "execution_count": 68,
     "metadata": {},
     "output_type": "execute_result"
    }
   ],
   "source": [
    "train.Outcome[train.DiabetesPedigreeFunction>train.DiabetesPedigreeFunction.mean()/2].mean()"
   ]
  },
  {
   "cell_type": "code",
   "execution_count": 69,
   "id": "e65698fa-ee80-40ee-82a3-f59df7fd0528",
   "metadata": {},
   "outputs": [
    {
     "data": {
      "text/plain": [
       "0.23809523809523808"
      ]
     },
     "execution_count": 69,
     "metadata": {},
     "output_type": "execute_result"
    }
   ],
   "source": [
    "train.Outcome[train.DiabetesPedigreeFunction<train.DiabetesPedigreeFunction.mean()/2].mean()"
   ]
  },
  {
   "cell_type": "code",
   "execution_count": null,
   "id": "e4b4db79-7b4d-45f0-87d7-617b9a3d5ec7",
   "metadata": {},
   "outputs": [],
   "source": []
  }
 ],
 "metadata": {
  "kernelspec": {
   "display_name": "deep",
   "language": "python",
   "name": "deep"
  },
  "language_info": {
   "codemirror_mode": {
    "name": "ipython",
    "version": 3
   },
   "file_extension": ".py",
   "mimetype": "text/x-python",
   "name": "python",
   "nbconvert_exporter": "python",
   "pygments_lexer": "ipython3",
   "version": "3.10.13"
  }
 },
 "nbformat": 4,
 "nbformat_minor": 5
}
