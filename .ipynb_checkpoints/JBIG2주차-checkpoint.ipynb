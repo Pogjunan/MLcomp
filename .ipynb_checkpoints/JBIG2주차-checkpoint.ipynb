{
 "cells": [
  {
   "cell_type": "markdown",
   "metadata": {},
   "source": [
    "# 기본 베이스라인"
   ]
  },
  {
   "cell_type": "code",
   "execution_count": 37,
   "metadata": {},
   "outputs": [],
   "source": [
    "import pandas as pd\n",
    "\n",
    "# 데이터 불러오기\n",
    "train = pd.read_csv('./train.csv')\n",
    "test = pd.read_csv('./test.csv')\n",
    "\n",
    "# 전처리\n",
    "# 훈련 및 테스트 세트 모두에서 'ID' 열을 삭제하세요. 학습에 불필요한 칼럼입니다.\n",
    "\n",
    "# Train set을 독립변수(X)와 종속변수(y)로 나누세요\n",
    "\n",
    "# sklearn의 train_test_split을 사용하여 Train set와 Test set으로 분할하세요\n",
    "\n",
    "\n",
    "\n",
    "# 모델 정의 및 학습\n",
    "# sklearn의 RandomForestClassifier를 정의하고 Train set에 대해 학습해세요\n",
    "\n",
    "\n",
    "\n",
    "# 모델 예측\n",
    "# Test set에서 예측을 수행하세요\n",
    "\n",
    "\n",
    "\n",
    "# 모델 평가\n",
    "# sklearn.metrics의 accuracy_score를 사용하여 모델의 성능을 평가하세요\n",
    "\n",
    "\n",
    "# test데이터 예측 및 제출\n",
    "# 대회에 결과를 제출하기 위해서 test.csv 데이터에 학습한 모델로 예측을 수행하세요\n",
    "\n",
    "\n",
    "# 제출할 파일 생성 및 저장\n",
    "submit = pd.read_csv('./sample_submission.csv')"
   ]
  },
  {
   "cell_type": "markdown",
   "metadata": {},
   "source": [
    "# 학습 순서\n",
    "\n",
    "\n",
    "스케일러 -> 교차검증 -> 그리드서치 -> 배깅"
   ]
  },
  {
   "cell_type": "markdown",
   "metadata": {},
   "source": [
    "스케일링"
   ]
  },
  {
   "cell_type": "code",
   "execution_count": 38,
   "metadata": {},
   "outputs": [],
   "source": [
    "# 위의 코드에서 스케일러를 추가해보세요"
   ]
  },
  {
   "cell_type": "code",
   "execution_count": 39,
   "metadata": {},
   "outputs": [],
   "source": [
    "# 스케일러에는 여러 종류가 있습니다. 다른 스케일러를 하나 더 구현해보세요"
   ]
  },
  {
   "cell_type": "markdown",
   "metadata": {},
   "source": [
    "Cross Validation(cv) ; 교차검증"
   ]
  },
  {
   "cell_type": "code",
   "execution_count": 40,
   "metadata": {},
   "outputs": [],
   "source": [
    "# 위의 코드에서 train_test_split이 아닌 cross_val_score 을 통해 성능을 올려보세요. (StratifiedKFold 제외)\n",
    "# cv_scores와 cv_scores 의 평균을 출력해보세요\n"
   ]
  },
  {
   "cell_type": "code",
   "execution_count": 41,
   "metadata": {},
   "outputs": [],
   "source": [
    "# 위의 코드에서 StratifiedKFold를 추가하여 데이터 불균형을 해소해보세요\n"
   ]
  },
  {
   "cell_type": "markdown",
   "metadata": {},
   "source": [
    "GridSearch ; 하이퍼 파라미터 튜닝"
   ]
  },
  {
   "cell_type": "code",
   "execution_count": 42,
   "metadata": {},
   "outputs": [],
   "source": [
    "# 그리드 서치를 통해서 모델의 하이퍼파라미터들을 효과적으로 최적화해보세요.\n",
    "# 최적의 파라미터들을 출력해보세요(grid_search.best_params_)"
   ]
  },
  {
   "cell_type": "code",
   "execution_count": 43,
   "metadata": {},
   "outputs": [],
   "source": [
    "# 공식 Document(예. sklearn RandomForestClassifier)을 참고해서 더 많은 하이퍼 파라미터와 범위를 추가해보세요.\n",
    "# 이 부분은 GPT보다도 직접 찾아보는게 더 공부가 될거에요."
   ]
  },
  {
   "cell_type": "markdown",
   "metadata": {},
   "source": [
    "앙상블 ; 배깅"
   ]
  },
  {
   "cell_type": "code",
   "execution_count": 44,
   "metadata": {},
   "outputs": [],
   "source": [
    "# 그리드처리를 통해 도출된 최적의 모델에 앙상블 기법 중 배깅을 활용해서 성능을 향상시켜보세요."
   ]
  },
  {
   "cell_type": "code",
   "execution_count": null,
   "metadata": {},
   "outputs": [],
   "source": []
  },
  {
   "cell_type": "markdown",
   "metadata": {},
   "source": [
    "# AutoML ; PyCaret"
   ]
  },
  {
   "cell_type": "markdown",
   "metadata": {},
   "source": [
    "PyCaret 공식 Document 중 QuickStart에 들어가시면 상세하게 잘 설명되어있습니다.\n",
    "\n",
    "당뇨병 데이터를 넣어서 PyCaret을 사용해보세요"
   ]
  },
  {
   "cell_type": "code",
   "execution_count": null,
   "metadata": {},
   "outputs": [],
   "source": [
    "# 설정 ; setup"
   ]
  },
  {
   "cell_type": "code",
   "execution_count": 60,
   "metadata": {},
   "outputs": [],
   "source": [
    "# 모델간 비교\n"
   ]
  },
  {
   "cell_type": "code",
   "execution_count": 61,
   "metadata": {},
   "outputs": [],
   "source": [
    "# 모델 분석"
   ]
  },
  {
   "cell_type": "code",
   "execution_count": 62,
   "metadata": {},
   "outputs": [],
   "source": [
    "# 예측"
   ]
  },
  {
   "cell_type": "code",
   "execution_count": 64,
   "metadata": {},
   "outputs": [],
   "source": [
    "# 모델 저장"
   ]
  },
  {
   "cell_type": "markdown",
   "metadata": {},
   "source": [
    "필수 과제는 이제 마무리 되었습니다.\n",
    "\n",
    "PyCaret은 워낙 유명해서 GPT에 넣어도 잘 알려줍니다. \n",
    "\n",
    "GPT, Pycaret 공식 홈페이지의 튜토리얼, 그리고 그동안 배운것을 통해 성능을 자유롭게 개선시켜보세요.\n",
    "\n"
   ]
  },
  {
   "cell_type": "code",
   "execution_count": null,
   "metadata": {},
   "outputs": [],
   "source": []
  }
 ],
 "metadata": {
  "kernelspec": {
   "display_name": "Autogluon_torch",
   "language": "python",
   "name": "python3"
  },
  "language_info": {
   "codemirror_mode": {
    "name": "ipython",
    "version": 3
   },
   "file_extension": ".py",
   "mimetype": "text/x-python",
   "name": "python",
   "nbconvert_exporter": "python",
   "pygments_lexer": "ipython3",
   "version": "3.9.17"
  }
 },
 "nbformat": 4,
 "nbformat_minor": 2
}
