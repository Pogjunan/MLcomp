{
 "cells": [
  {
   "cell_type": "markdown",
   "id": "6a216642-0212-4cfc-a761-978c67157994",
   "metadata": {},
   "source": [
    "# Character Encoding \n",
    "(컴퓨터에서 쓸 수 있는 bytes 에서 사람이 볼 수 있는 문자로 변환하는 것)"
   ]
  },
  {
   "cell_type": "code",
   "execution_count": null,
   "id": "fbe668bc-8ddb-4a2a-8ce3-cb6655053a19",
   "metadata": {},
   "outputs": [],
   "source": [
    "# modules we'll use\n",
    "import pandas as pd\n",
    "import numpy as np\n",
    "\n",
    "# helpful character encoding module\n",
    "import charset_normalizer\n",
    "\n",
    "# set seed for reproducibility\n",
    "np.random.seed(0)"
   ]
  },
  {
   "cell_type": "markdown",
   "id": "455d1be2-c1fe-489e-b5a1-5bdd96ed665a",
   "metadata": {},
   "source": [
    "## What are encodings?"
   ]
  },
  {
   "cell_type": "markdown",
   "id": "9958113f-d929-4a91-82a1-91c639d9965c",
   "metadata": {},
   "source": [
    "encoding 중 character encoding 에 대해서 다루고 있습니다.\n",
    "<br>\n",
    "character encoding은 컴퓨터의 binary btye 들을 사람이 볼 수 있게 mapping 시킨 행위입니다."
   ]
  },
  {
   "cell_type": "code",
   "execution_count": 1,
   "id": "b48b79ac-4062-4ebf-af68-bf4c27b3afee",
   "metadata": {},
   "outputs": [
    {
     "data": {
      "text/plain": [
       "str"
      ]
     },
     "execution_count": 1,
     "metadata": {},
     "output_type": "execute_result"
    }
   ],
   "source": [
    "# start with a string\n",
    "before = \"This is the euro symbol: €\"\n",
    "\n",
    "# check to see what datatype it is\n",
    "type(before)"
   ]
  },
  {
   "cell_type": "code",
   "execution_count": 2,
   "id": "383ea566-f497-4e01-83d7-9afdfd8d6823",
   "metadata": {},
   "outputs": [
    {
     "data": {
      "text/plain": [
       "bytes"
      ]
     },
     "execution_count": 2,
     "metadata": {},
     "output_type": "execute_result"
    }
   ],
   "source": [
    "# encode it to a different encoding, replacing characters that raise errors\n",
    "after = before.encode(\"utf-8\", errors=\"replace\")\n",
    "\n",
    "# check the type\n",
    "type(after)"
   ]
  },
  {
   "cell_type": "code",
   "execution_count": 3,
   "id": "3b8af086-ba8a-43d3-8fe0-433c67c3aafe",
   "metadata": {},
   "outputs": [
    {
     "data": {
      "text/plain": [
       "b'This is the euro symbol: \\xe2\\x82\\xac'"
      ]
     },
     "execution_count": 3,
     "metadata": {},
     "output_type": "execute_result"
    }
   ],
   "source": [
    "after"
   ]
  },
  {
   "cell_type": "markdown",
   "id": "995b383b-3d6d-4ded-8965-2cbc11baa3d6",
   "metadata": {},
   "source": [
    "바이트 객체를 보면 앞에 b가 있고 뒤에 텍스트가 있는 것을 볼 수 있습니다. 이는 바이트가 ASCII로 인코딩된 문자인 것처럼 인쇄되기 때문입니다. (ASCII는 영어 이외의 다른 언어를 작성하는 데 실제로 작동하지 않는 오래된 문자 인코딩입니다.) 여기에서 유로 기호가 인쇄될 때 \"\\xe2\\x82\\xac\"처럼 보이는 mojibake로 대체된 것을 볼 수 있습니다. 마치 ASCII 문자열인 것처럼 말이죠."
   ]
  },
  {
   "cell_type": "code",
   "execution_count": null,
   "id": "346f9d0b-7c57-4436-9be3-fab9c8745c06",
   "metadata": {},
   "outputs": [],
   "source": []
  }
 ],
 "metadata": {
  "kernelspec": {
   "display_name": "deep",
   "language": "python",
   "name": "deep"
  },
  "language_info": {
   "codemirror_mode": {
    "name": "ipython",
    "version": 3
   },
   "file_extension": ".py",
   "mimetype": "text/x-python",
   "name": "python",
   "nbconvert_exporter": "python",
   "pygments_lexer": "ipython3",
   "version": "3.10.13"
  }
 },
 "nbformat": 4,
 "nbformat_minor": 5
}
