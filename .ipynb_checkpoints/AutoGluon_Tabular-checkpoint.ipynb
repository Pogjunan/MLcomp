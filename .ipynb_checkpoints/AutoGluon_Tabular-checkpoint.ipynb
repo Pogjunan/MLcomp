{
  "nbformat": 4,
  "nbformat_minor": 0,
  "metadata": {
    "colab": {
      "provenance": []
    },
    "kernelspec": {
      "name": "python3",
      "display_name": "Python 3"
    },
    "language_info": {
      "name": "python"
    }
  },
  "cells": [
    {
      "cell_type": "markdown",
      "source": [
        "AutoGluon(AutoML) 사용해보기\n",
        "AutoGluon Tabular - Quick Start : https://auto.gluon.ai/stable/tutorials/tabular/tabular-quick-start.html\n",
        "\n",
        "AutoGluon Tabular - Essential Functionality : https://auto.gluon.ai/stable/tutorials/tabular/tabular-essentials.html\n",
        "\n",
        "추가적으로 AutoGluon을 알고싶다면 AutoGluon Tabular - In Depth : https://auto.gluon.ai/stable/tutorials/tabular/tabular-indepth.html\n",
        "\n",
        "Quick Start"
      ],
      "metadata": {
        "id": "mkDOAaHnf98u"
      }
    },
    {
      "cell_type": "code",
      "source": [
        "#pip install autogluon"
      ],
      "metadata": {
        "id": "ATnfEPT-gJRc"
      },
      "execution_count": null,
      "outputs": []
    },
    {
      "cell_type": "code",
      "source": [
        "# Data import\n",
        "\n",
        "from autogluon.tabular import TabularDataset, TabularPredictor\n",
        "import pandas as pd\n",
        "\n",
        "df = pd.read_csv('train.csv')\n",
        "test = pd.read_csv('test.csv')\n",
        "\n",
        "# evaluate과 leaderboard함수에 valid 데이터를 넣어서 검증하기 위해 데이터 분할\n",
        "train = df[:int(len(df) * 0.8)]\n",
        "valid = df[int(len(df) * 0.8):]\n",
        "\n",
        "train = TabularDataset(train.drop(['ID'], axis=1))\n",
        "valid = TabularDataset(valid.drop(['ID'], axis=1))\n",
        "\n",
        "# Training\n",
        "# Define the predictor\n",
        "predictor = TabularPredictor(label='Income', eval_metric='rmse')\n",
        "\n",
        "# Training the model\n",
        "predictor.fit(train_data=train, tuning_data=valid)\n",
        "\n",
        "# Make predictions on test data\n",
        "predictions = predictor.predict(test)\n",
        "\n",
        "# Save predictions to a CSV file\n",
        "predictions.to_csv('predictions.csv', index=False)\n"
      ],
      "metadata": {
        "id": "r2nW_-2sf-kz"
      },
      "execution_count": null,
      "outputs": []
    },
    {
      "cell_type": "code",
      "source": [
        "# Load the test data\n",
        "test_data = TabularDataset(test.drop(['ID'], axis=1))\n",
        "\n",
        "# Make predictions on the test data\n",
        "predictions = predictor.predict(test_data)\n",
        "\n",
        "# Add predictions to the test dataframe\n",
        "test['predictions'] = predictions\n",
        "\n",
        "# Save the test dataframe with predictions to a CSV file\n",
        "#test.to_csv('test_with_predictions.csv', index=False)"
      ],
      "metadata": {
        "id": "toQl8RxigLrE"
      },
      "execution_count": null,
      "outputs": []
    },
    {
      "cell_type": "code",
      "source": [
        "#preds = model.predict(test_x)\n",
        "submission = pd.read_csv('./sample_submission.csv')\n",
        "submission['Income'] = predictions\n",
        "submission.to_csv('./baseline_submission.csv', index=False)"
      ],
      "metadata": {
        "id": "ffN6rjZegP3C"
      },
      "execution_count": null,
      "outputs": []
    },
    {
      "cell_type": "code",
      "source": [
        "predictions"
      ],
      "metadata": {
        "id": "-tdziULHgSBA"
      },
      "execution_count": null,
      "outputs": []
    }
  ]
}